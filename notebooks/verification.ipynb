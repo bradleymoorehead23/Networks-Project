{
 "cells": [
  {
   "cell_type": "code",
   "execution_count": 1,
   "id": "2bb35964-82e8-4a39-912b-37e957f4cc12",
   "metadata": {},
   "outputs": [],
   "source": [
    "import pandas as pd\n",
    "import spotipy\n",
    "from spotipy.oauth2 import SpotifyClientCredentials\n",
    "from dotenv import load_dotenv\n",
    "load_dotenv()\n",
    "from glob import glob"
   ]
  },
  {
   "cell_type": "code",
   "execution_count": 2,
   "id": "4a3450c7-4727-4a81-b297-b0ed2d05749c",
   "metadata": {},
   "outputs": [],
   "source": [
    "cred_manager = SpotifyClientCredentials()\n",
    "sp = spotipy.Spotify(client_credentials_manager = cred_manager)"
   ]
  },
  {
   "cell_type": "code",
   "execution_count": 3,
   "id": "fbe88ed3-1b17-41ba-87cc-ade3dea2c308",
   "metadata": {},
   "outputs": [],
   "source": [
    "files = glob('data/top 100 art*')\n",
    "a2009, a2012, a2015, a2018, a2021 = [pd.read_csv(file) for file in files]"
   ]
  },
  {
   "cell_type": "code",
   "execution_count": 4,
   "id": "999b82d6-df27-46af-84d3-0a084b7b7d79",
   "metadata": {},
   "outputs": [
    {
     "data": {
      "text/plain": [
       "['data\\\\top 100 artists 2009.csv',\n",
       " 'data\\\\top 100 artists 2012.csv',\n",
       " 'data\\\\top 100 artists 2015.csv',\n",
       " 'data\\\\top 100 artists 2018.csv',\n",
       " 'data\\\\top 100 artists 2021.csv']"
      ]
     },
     "execution_count": 4,
     "metadata": {},
     "output_type": "execute_result"
    }
   ],
   "source": [
    "files"
   ]
  },
  {
   "cell_type": "markdown",
   "id": "f0d1cb55-e839-42dc-af40-e30a50e02dd9",
   "metadata": {
    "jp-MarkdownHeadingCollapsed": true,
    "tags": []
   },
   "source": [
    "# 2009"
   ]
  },
  {
   "cell_type": "code",
   "execution_count": 4,
   "id": "ddc9ac3d-72a2-40bd-824a-ac91c7e98ac3",
   "metadata": {},
   "outputs": [
    {
     "name": "stdout",
     "output_type": "stream",
     "text": [
      "For Lady Gaga, which index is correct? ['Lady Gaga', 'Gaga For Lady Stars', 'Lady Gaga Orkestband']\n"
     ]
    },
    {
     "name": "stdin",
     "output_type": "stream",
     "text": [
      " 1\n"
     ]
    },
    {
     "name": "stdout",
     "output_type": "stream",
     "text": [
      "For Black Eyed Peas, which index is correct? ['Black Eyed Peas', 'Hot Black Eyed Peas', 'Taboo of Black Eyed Peas']\n"
     ]
    },
    {
     "name": "stdin",
     "output_type": "stream",
     "text": [
      " 1\n"
     ]
    },
    {
     "name": "stdout",
     "output_type": "stream",
     "text": [
      "For Beyonce, which index is correct? ['Beyoncé', 'Beyonce Smith', 'Mc Beyonce']\n"
     ]
    },
    {
     "name": "stdin",
     "output_type": "stream",
     "text": [
      " 1\n"
     ]
    },
    {
     "name": "stdout",
     "output_type": "stream",
     "text": [
      "For Taylor Swift, which index is correct? ['Taylor Swift', 'Taylor Swiftman']\n"
     ]
    },
    {
     "name": "stdin",
     "output_type": "stream",
     "text": [
      " 1\n"
     ]
    },
    {
     "name": "stdout",
     "output_type": "stream",
     "text": [
      "For Kanye West, which index is correct? ['Kanye West', 'Kanye West for KanMan Productions, Inc. and Krazy Kat Catalogue, Inc.', 'Kanye West Instrumentalz']\n"
     ]
    },
    {
     "name": "stdin",
     "output_type": "stream",
     "text": [
      " 1\n"
     ]
    },
    {
     "name": "stdout",
     "output_type": "stream",
     "text": [
      "For T.I., which index is correct? ['T.I.', 'T.I BLAZE', 'T.I.P']\n"
     ]
    },
    {
     "name": "stdin",
     "output_type": "stream",
     "text": [
      " 1\n"
     ]
    },
    {
     "name": "stdout",
     "output_type": "stream",
     "text": [
      "For Britney Spears, which index is correct? ['Britney Spears', 'Karaoke - Britney Spears', 'Britney Spears (Karaoke)']\n"
     ]
    },
    {
     "name": "stdin",
     "output_type": "stream",
     "text": [
      " 1\n"
     ]
    },
    {
     "name": "stdout",
     "output_type": "stream",
     "text": [
      "For Miley Cyrus, which index is correct? ['Miley Cyrus', 'Miley Cyrus as Hannah Montana', 'Miley Ray Cyrus']\n"
     ]
    },
    {
     "name": "stdin",
     "output_type": "stream",
     "text": [
      " 1\n"
     ]
    },
    {
     "name": "stdout",
     "output_type": "stream",
     "text": [
      "For Flo Rida, which index is correct? ['Flo Rida', 'David Guetta - Nicki Minaj - Flo Rida', 'Tropical Florida']\n"
     ]
    },
    {
     "name": "stdin",
     "output_type": "stream",
     "text": [
      " 1\n"
     ]
    },
    {
     "name": "stdout",
     "output_type": "stream",
     "text": [
      "For Katy Perry, which index is correct? ['Katy Perry', 'Katy Ne Perry -', 'Made famous by Katy Perry']\n"
     ]
    },
    {
     "name": "stdin",
     "output_type": "stream",
     "text": [
      " 1\n"
     ]
    },
    {
     "name": "stdout",
     "output_type": "stream",
     "text": [
      "For P!nk, which index is correct? ['P!nk', 'Nk Profeta', 'Patria NK']\n"
     ]
    },
    {
     "name": "stdin",
     "output_type": "stream",
     "text": [
      " 1\n"
     ]
    },
    {
     "name": "stdout",
     "output_type": "stream",
     "text": [
      "For Pitbull, which index is correct? ['Pitbull', 'Pitbullying', 'Pitbull Daycare']\n"
     ]
    },
    {
     "name": "stdin",
     "output_type": "stream",
     "text": [
      " 1\n"
     ]
    },
    {
     "name": "stdout",
     "output_type": "stream",
     "text": [
      "For Ne-Yo, which index is correct? ['YoungBoy Never Broke Again', 'Ne-Yo', 'New York Philharmonic']\n"
     ]
    },
    {
     "name": "stdin",
     "output_type": "stream",
     "text": [
      " 2\n"
     ]
    },
    {
     "name": "stdout",
     "output_type": "stream",
     "text": [
      "For Kelly Clarkson, which index is correct? ['Kelly Clarkson', 'Karaoke - Kelly Clarkson', 'Kelly Clarkson Karaoke Band']\n"
     ]
    },
    {
     "name": "stdin",
     "output_type": "stream",
     "text": [
      " 1\n"
     ]
    },
    {
     "name": "stdout",
     "output_type": "stream",
     "text": [
      "For The Fray, which index is correct? ['The Fray', 'The Frayser Click', 'The Hollow Frays']\n"
     ]
    },
    {
     "name": "stdin",
     "output_type": "stream",
     "text": [
      " 1\n"
     ]
    },
    {
     "name": "stdout",
     "output_type": "stream",
     "text": [
      "For Jason Mraz, which index is correct? ['Jason Mraz', 'JASON THOMAS MRAZ', 'Jason Mraz Karaoke Band']\n"
     ]
    },
    {
     "name": "stdin",
     "output_type": "stream",
     "text": [
      " 1\n"
     ]
    },
    {
     "name": "stdout",
     "output_type": "stream",
     "text": [
      "For Drake, which index is correct? ['Drake', 'Drakeo the Ruler', 'Nick Drake']\n"
     ]
    },
    {
     "name": "stdin",
     "output_type": "stream",
     "text": [
      " 1\n"
     ]
    },
    {
     "name": "stdout",
     "output_type": "stream",
     "text": [
      "For Lil Wayne, which index is correct? ['Lil Wayne', \"Lil Bow Wow, Lil' Wayne, Lil' Zane & Sammie\", 'Jamie Foxx featuring Lil Wayne']\n"
     ]
    },
    {
     "name": "stdin",
     "output_type": "stream",
     "text": [
      " 1\n"
     ]
    },
    {
     "name": "stdout",
     "output_type": "stream",
     "text": [
      "For Rihanna, which index is correct? ['Rihanna', 'Rihanna Harmon', 'Rihanna Henderson']\n"
     ]
    },
    {
     "name": "stdin",
     "output_type": "stream",
     "text": [
      " 1\n"
     ]
    },
    {
     "name": "stdout",
     "output_type": "stream",
     "text": [
      "For Kings of Leon, which index is correct? ['Kings of Leon', 'Kings of Leonard']\n"
     ]
    },
    {
     "name": "stdin",
     "output_type": "stream",
     "text": [
      " 1\n"
     ]
    },
    {
     "name": "stdout",
     "output_type": "stream",
     "text": [
      "For The All-American Rejects, which index is correct? ['The All-American Rejects']\n"
     ]
    },
    {
     "name": "stdin",
     "output_type": "stream",
     "text": [
      " 1\n"
     ]
    },
    {
     "name": "stdout",
     "output_type": "stream",
     "text": [
      "For Keri Hilson, which index is correct? ['Keri Hilson', 'Made famous by Keri Hilson']\n"
     ]
    },
    {
     "name": "stdin",
     "output_type": "stream",
     "text": [
      " 1\n"
     ]
    },
    {
     "name": "stdout",
     "output_type": "stream",
     "text": [
      "For Soulja Boy, which index is correct? ['Soulja Boy', \"Soulja Boy Tell 'En\", \"Soulja Boy Tell 'Em\"]\n"
     ]
    },
    {
     "name": "stdin",
     "output_type": "stream",
     "text": [
      " 1\n"
     ]
    },
    {
     "name": "stdout",
     "output_type": "stream",
     "text": [
      "For Akon, which index is correct? ['Akon', 'Ailani Akoni', 'Akongo']\n"
     ]
    },
    {
     "name": "stdin",
     "output_type": "stream",
     "text": [
      " 1\n"
     ]
    },
    {
     "name": "stdout",
     "output_type": "stream",
     "text": [
      "For T-Pain, which index is correct? ['T-Pain', 'The Pains Of Being Pure At Heart', 'Madi Sipes & The Painted Blue']\n"
     ]
    },
    {
     "name": "stdin",
     "output_type": "stream",
     "text": [
      " 1\n"
     ]
    }
   ],
   "source": [
    "artists = a2009['artist']\n",
    "names = []\n",
    "uris = []\n",
    "for artist in artists[0:25]:\n",
    "    search = sp.search(q = f'artist:{artist}', type = 'artist')['artists']['items'][0:3]\n",
    "    results = [s['name'] for s in search]\n",
    "    print(f'For {artist}, which index is correct? {results}')\n",
    "    index = int(input()) - 1\n",
    "    name = search[index]['name']\n",
    "    names.append(name)\n",
    "    uri = search[index]['uri']\n",
    "    uris.append(uri)"
   ]
  },
  {
   "cell_type": "code",
   "execution_count": 7,
   "id": "72b9bc76-1368-4a1c-a0fa-1bb87e197bfa",
   "metadata": {},
   "outputs": [
    {
     "name": "stdout",
     "output_type": "stream",
     "text": [
      "For Iyaz, which index is correct? ['Iyaz', 'Iyazan', 'Iyazz']\n"
     ]
    },
    {
     "name": "stdin",
     "output_type": "stream",
     "text": [
      " 1\n"
     ]
    },
    {
     "name": "stdout",
     "output_type": "stream",
     "text": [
      "For Demi Lovato, which index is correct? ['Demi Lovato', 'Cortana Flutist & Demi Lovato', 'Demi Lovato Cover Band']\n"
     ]
    },
    {
     "name": "stdin",
     "output_type": "stream",
     "text": [
      " 1\n"
     ]
    },
    {
     "name": "stdout",
     "output_type": "stream",
     "text": [
      "For New Boyz, which index is correct? ['New Boyz', 'New Boyz & Rock Mafia', 'NEW (THE BOYZ)']\n"
     ]
    },
    {
     "name": "stdin",
     "output_type": "stream",
     "text": [
      " 1\n"
     ]
    },
    {
     "name": "stdout",
     "output_type": "stream",
     "text": [
      "For Alicia Keys, which index is correct? ['Alicia Keys', 'Alicia Keys/Sample', 'Shah Loves Alicia Keys']\n"
     ]
    },
    {
     "name": "stdin",
     "output_type": "stream",
     "text": [
      " 1\n"
     ]
    },
    {
     "name": "stdout",
     "output_type": "stream",
     "text": [
      "For Kristinia DeBarge, which index is correct? ['Kristinia DeBarge']\n"
     ]
    },
    {
     "name": "stdin",
     "output_type": "stream",
     "text": [
      " 1\n"
     ]
    },
    {
     "name": "stdout",
     "output_type": "stream",
     "text": [
      "For Blake Shelton, which index is correct? ['Blake Shelton', 'Blake Tollison Shelton', \"Blake Shelton's Karaoke Band\"]\n"
     ]
    },
    {
     "name": "stdin",
     "output_type": "stream",
     "text": [
      " 1\n"
     ]
    },
    {
     "name": "stdout",
     "output_type": "stream",
     "text": [
      "For Mario, which index is correct? ['Mario', 'Mario Winans', 'Mario Judah']\n"
     ]
    },
    {
     "name": "stdin",
     "output_type": "stream",
     "text": [
      " 1\n"
     ]
    },
    {
     "name": "stdout",
     "output_type": "stream",
     "text": [
      "For Sammie, which index is correct? ['Sammie', 'Sammielz', 'Sammie Lee']\n"
     ]
    },
    {
     "name": "stdin",
     "output_type": "stream",
     "text": [
      " 1\n"
     ]
    },
    {
     "name": "stdout",
     "output_type": "stream",
     "text": [
      "For Montgomery Gentry, which index is correct? ['Montgomery Gentry']\n"
     ]
    },
    {
     "name": "stdin",
     "output_type": "stream",
     "text": [
      " 1\n"
     ]
    },
    {
     "name": "stdout",
     "output_type": "stream",
     "text": [
      "For The Ting Tings, which index is correct? ['The Ting Tings', 'The Tingshas', 'The SemiAcoustic Tings']\n"
     ]
    },
    {
     "name": "stdin",
     "output_type": "stream",
     "text": [
      " 1\n"
     ]
    },
    {
     "name": "stdout",
     "output_type": "stream",
     "text": [
      "For Pleasure P, which index is correct? ['Pleasure P', 'American Pleasure Club', 'Pleasure Systems']\n"
     ]
    },
    {
     "name": "stdin",
     "output_type": "stream",
     "text": [
      " 1\n"
     ]
    },
    {
     "name": "stdout",
     "output_type": "stream",
     "text": [
      "For Plain White T's, which index is correct? [\"Plain White T's\", 'Plain White T', 'Plain White Toast']\n"
     ]
    },
    {
     "name": "stdin",
     "output_type": "stream",
     "text": [
      " 1\n"
     ]
    },
    {
     "name": "stdout",
     "output_type": "stream",
     "text": [
      "For Fabolous, which index is correct? ['Fabolous', 'Fabolous Sport', 'Fabolous Joe Budden']\n"
     ]
    },
    {
     "name": "stdin",
     "output_type": "stream",
     "text": [
      " 1\n"
     ]
    },
    {
     "name": "stdout",
     "output_type": "stream",
     "text": [
      "For Jesse McCartney, which index is correct? ['Jesse McCartney', 'Jesse McCartney & T-Pain']\n"
     ]
    },
    {
     "name": "stdin",
     "output_type": "stream",
     "text": [
      " 1\n"
     ]
    },
    {
     "name": "stdout",
     "output_type": "stream",
     "text": [
      "For Trey Songz, which index is correct? ['Trey Songz', 'Trey Songz 2.0', 'Buju Banton & Trey Songz']\n"
     ]
    },
    {
     "name": "stdin",
     "output_type": "stream",
     "text": [
      " 1\n"
     ]
    },
    {
     "name": "stdout",
     "output_type": "stream",
     "text": [
      "For Theory Of A Deadman, which index is correct? ['Theory of a Deadman']\n"
     ]
    },
    {
     "name": "stdin",
     "output_type": "stream",
     "text": [
      " 1\n"
     ]
    },
    {
     "name": "stdout",
     "output_type": "stream",
     "text": [
      "For Alan Jackson, which index is correct? ['Alan Jackson', 'Jessica Lucas, Alana D., & Brandon T. Jackson', 'Alan Jackson']\n"
     ]
    },
    {
     "name": "stdin",
     "output_type": "stream",
     "text": [
      " 1\n"
     ]
    },
    {
     "name": "stdout",
     "output_type": "stream",
     "text": [
      "For LMFAO, which index is correct? ['LMFAO', 'LMFAO32895', 'Sky Blu of LMFAO']\n"
     ]
    },
    {
     "name": "stdin",
     "output_type": "stream",
     "text": [
      " 1\n"
     ]
    },
    {
     "name": "stdout",
     "output_type": "stream",
     "text": [
      "For 50 Cent, which index is correct? ['50 Cent', '50 Cent, DJ Whoo Kid', 'Notorious B.I.G. & 50 Cent']\n"
     ]
    },
    {
     "name": "stdin",
     "output_type": "stream",
     "text": [
      " 1\n"
     ]
    },
    {
     "name": "stdout",
     "output_type": "stream",
     "text": [
      "For Dorrough, which index is correct? ['Dorrough Music', 'Dorrough', 'Dorrough']\n"
     ]
    },
    {
     "name": "stdin",
     "output_type": "stream",
     "text": [
      " 2\n"
     ]
    },
    {
     "name": "stdout",
     "output_type": "stream",
     "text": [
      "For Kellie Pickler, which index is correct? ['Kellie Pickler', 'Kellie Pickler']\n"
     ]
    },
    {
     "name": "stdin",
     "output_type": "stream",
     "text": [
      " 1\n"
     ]
    },
    {
     "name": "stdout",
     "output_type": "stream",
     "text": [
      "For David Guetta, which index is correct? ['David Guetta', 'David Guetta - Nicki Minaj - Flo Rida', 'Avicii - David Guetta']\n"
     ]
    },
    {
     "name": "stdin",
     "output_type": "stream",
     "text": [
      " 1\n"
     ]
    },
    {
     "name": "stdout",
     "output_type": "stream",
     "text": [
      "For Tim McGraw, which index is correct? ['Tim McGraw', 'Cowboy Troy (With Tim McGraw and Big Kenny)', 'Karaoke - Tim McGraw']\n"
     ]
    },
    {
     "name": "stdin",
     "output_type": "stream",
     "text": [
      " 1\n"
     ]
    },
    {
     "name": "stdout",
     "output_type": "stream",
     "text": [
      "For Ciara, which index is correct? ['Ciara', 'Ciara Lowry', 'Ciaran Lavery']\n"
     ]
    },
    {
     "name": "stdin",
     "output_type": "stream",
     "text": [
      " 1\n"
     ]
    },
    {
     "name": "stdout",
     "output_type": "stream",
     "text": [
      "For Saving Abel, which index is correct? ['Saving Abel']\n"
     ]
    },
    {
     "name": "stdin",
     "output_type": "stream",
     "text": [
      " 1\n"
     ]
    }
   ],
   "source": [
    "for artist in artists[75:100]:\n",
    "    search = sp.search(q = f'artist:{artist}', type = 'artist')['artists']['items'][0:3]\n",
    "    results = [s['name'] for s in search]\n",
    "    print(f'For {artist}, which index is correct? {results}')\n",
    "    index = int(input()) - 1\n",
    "    name = search[index]['name']\n",
    "    names.append(name)\n",
    "    uri = search[index]['uri']\n",
    "    uris.append(uri)"
   ]
  },
  {
   "cell_type": "code",
   "execution_count": 9,
   "id": "ea6b36f3-6bc7-43c8-8550-4ef054f75388",
   "metadata": {},
   "outputs": [],
   "source": [
    "a2009['uri'] = uris\n",
    "a2009['artist'] = names\n",
    "a2009.to_csv('data/artists_2009.csv', index = False)"
   ]
  },
  {
   "cell_type": "markdown",
   "id": "579aec64-60b8-4170-9108-d7d2b0ebe8c3",
   "metadata": {
    "jp-MarkdownHeadingCollapsed": true,
    "tags": []
   },
   "source": [
    "# 2012"
   ]
  },
  {
   "cell_type": "code",
   "execution_count": 13,
   "id": "9124e168-7485-459a-bfbd-75d256aa0630",
   "metadata": {},
   "outputs": [
    {
     "name": "stdout",
     "output_type": "stream",
     "text": [
      "For Rihanna, which index is correct? ['Rihanna', 'Rihanna Harmon', 'Rihanna Henderson']\n"
     ]
    },
    {
     "name": "stdin",
     "output_type": "stream",
     "text": [
      " 1\n"
     ]
    },
    {
     "name": "stdout",
     "output_type": "stream",
     "text": [
      "For Flo Rida, which index is correct? ['Flo Rida', 'David Guetta - Nicki Minaj - Flo Rida', 'Tropical Florida']\n"
     ]
    },
    {
     "name": "stdin",
     "output_type": "stream",
     "text": [
      " 1\n"
     ]
    },
    {
     "name": "stdout",
     "output_type": "stream",
     "text": [
      "For Nicki Minaj, which index is correct? ['Nicki Minaj', 'David Guetta - Nicki Minaj - Flo Rida', 'Nickie Minaj']\n"
     ]
    },
    {
     "name": "stdin",
     "output_type": "stream",
     "text": [
      " 1\n"
     ]
    },
    {
     "name": "stdout",
     "output_type": "stream",
     "text": [
      "For Adele, which index is correct? ['Adele', 'Robyn Adele Anderson', 'Adele K']\n"
     ]
    },
    {
     "name": "stdin",
     "output_type": "stream",
     "text": [
      " 1\n"
     ]
    },
    {
     "name": "stdout",
     "output_type": "stream",
     "text": [
      "For Maroon 5, which index is correct? ['Maroon 5', 'Maroon 5', '마론 파이브 (Maroon 5)']\n"
     ]
    },
    {
     "name": "stdin",
     "output_type": "stream",
     "text": [
      " 1\n"
     ]
    },
    {
     "name": "stdout",
     "output_type": "stream",
     "text": [
      "For Katy Perry, which index is correct? ['Katy Perry', 'Katy Ne Perry -', 'Made famous by Katy Perry']\n"
     ]
    },
    {
     "name": "stdin",
     "output_type": "stream",
     "text": [
      " 1\n"
     ]
    },
    {
     "name": "stdout",
     "output_type": "stream",
     "text": [
      "For fun., which index is correct? ['fun.', 'Funk Wav', 'Grand Funk Railroad']\n"
     ]
    },
    {
     "name": "stdin",
     "output_type": "stream",
     "text": [
      " 1\n"
     ]
    },
    {
     "name": "stdout",
     "output_type": "stream",
     "text": [
      "For Carly Rae Jepsen, which index is correct? ['Carly Rae Jepsen', 'Carly Rae Jepsen Tribute Team']\n"
     ]
    },
    {
     "name": "stdin",
     "output_type": "stream",
     "text": [
      " 1\n"
     ]
    },
    {
     "name": "stdout",
     "output_type": "stream",
     "text": [
      "For Drake, which index is correct? ['Drake', 'Drakeo the Ruler', 'Nick Drake']\n"
     ]
    },
    {
     "name": "stdin",
     "output_type": "stream",
     "text": [
      " 1\n"
     ]
    },
    {
     "name": "stdout",
     "output_type": "stream",
     "text": [
      "For Taylor Swift, which index is correct? ['Taylor Swift', 'Taylor Swiftman']\n"
     ]
    },
    {
     "name": "stdin",
     "output_type": "stream",
     "text": [
      " 1\n"
     ]
    },
    {
     "name": "stdout",
     "output_type": "stream",
     "text": [
      "For Kelly Clarkson, which index is correct? ['Kelly Clarkson', 'Karaoke - Kelly Clarkson', 'Kelly Clarkson Karaoke Band']\n"
     ]
    },
    {
     "name": "stdin",
     "output_type": "stream",
     "text": [
      " 1\n"
     ]
    },
    {
     "name": "stdout",
     "output_type": "stream",
     "text": [
      "For LMFAO, which index is correct? ['LMFAO', 'LMFAO32895', 'Sky Blu of LMFAO']\n"
     ]
    },
    {
     "name": "stdin",
     "output_type": "stream",
     "text": [
      " 1\n"
     ]
    },
    {
     "name": "stdout",
     "output_type": "stream",
     "text": [
      "For One DIrection, which index is correct? ['One Direction', 'Direction One', 'Ten Directions']\n"
     ]
    },
    {
     "name": "stdin",
     "output_type": "stream",
     "text": [
      " 1\n"
     ]
    },
    {
     "name": "stdout",
     "output_type": "stream",
     "text": [
      "For Gotye, which index is correct? ['Gotye', 'gotyer', 'Peter Gotye']\n"
     ]
    },
    {
     "name": "stdin",
     "output_type": "stream",
     "text": [
      " 1\n"
     ]
    },
    {
     "name": "stdout",
     "output_type": "stream",
     "text": [
      "For David Guetta, which index is correct? ['David Guetta', 'David Guetta - Nicki Minaj - Flo Rida', 'Avicii - David Guetta']\n"
     ]
    },
    {
     "name": "stdin",
     "output_type": "stream",
     "text": [
      " 1\n"
     ]
    },
    {
     "name": "stdout",
     "output_type": "stream",
     "text": [
      "For Justin Bieber, which index is correct? ['Justin Bieber', 'Justin Biebero', 'Cortana Flutist & Justin Bieber']\n"
     ]
    },
    {
     "name": "stdin",
     "output_type": "stream",
     "text": [
      " 1\n"
     ]
    },
    {
     "name": "stdout",
     "output_type": "stream",
     "text": [
      "For The Wanted, which index is correct? ['The Wanted', 'The Wanteds', 'Thee Wantedd']\n"
     ]
    },
    {
     "name": "stdin",
     "output_type": "stream",
     "text": [
      " 1\n"
     ]
    },
    {
     "name": "stdout",
     "output_type": "stream",
     "text": [
      "For Chris Brown, which index is correct? ['Chris Brown', 'Chris Brown', 'Chris Brown']\n"
     ]
    },
    {
     "name": "stdin",
     "output_type": "stream",
     "text": [
      " 1\n"
     ]
    },
    {
     "name": "stdout",
     "output_type": "stream",
     "text": [
      "For Ellie Goulding, which index is correct? ['Ellie Goulding', 'Tribute to Ellie Goulding', 'Made famous by Ellie Goulding']\n"
     ]
    },
    {
     "name": "stdin",
     "output_type": "stream",
     "text": [
      " 1\n"
     ]
    },
    {
     "name": "stdout",
     "output_type": "stream",
     "text": [
      "For Usher, which index is correct? ['Usher', 'Isabèl Usher', 'Jessie T. Usher']\n"
     ]
    },
    {
     "name": "stdin",
     "output_type": "stream",
     "text": [
      " 1\n"
     ]
    },
    {
     "name": "stdout",
     "output_type": "stream",
     "text": [
      "For Calvin Harris, which index is correct? ['Calvin Harris', 'Calvin Harris', 'Calvin Harris']\n"
     ]
    },
    {
     "name": "stdin",
     "output_type": "stream",
     "text": [
      " 1\n"
     ]
    },
    {
     "name": "stdout",
     "output_type": "stream",
     "text": [
      "For Bruno Mars, which index is correct? ['Bruno Mars', 'Bruno Marshall', 'Bruno Marsicano']\n"
     ]
    },
    {
     "name": "stdin",
     "output_type": "stream",
     "text": [
      " 1\n"
     ]
    },
    {
     "name": "stdout",
     "output_type": "stream",
     "text": [
      "For Train, which index is correct? ['Meghan Trainor', 'Train', 'B-Train']\n"
     ]
    },
    {
     "name": "stdin",
     "output_type": "stream",
     "text": [
      " 2\n"
     ]
    },
    {
     "name": "stdout",
     "output_type": "stream",
     "text": [
      "For Wiz Khalifa, which index is correct? ['Wiz Khalifa', 'Wiz Khalifa', 'Wiz Khalifa']\n"
     ]
    },
    {
     "name": "stdin",
     "output_type": "stream",
     "text": [
      " 1\n"
     ]
    },
    {
     "name": "stdout",
     "output_type": "stream",
     "text": [
      "For Pitbull, which index is correct? ['Pitbull', 'Pitbullying', 'Pitbull Daycare']\n"
     ]
    },
    {
     "name": "stdin",
     "output_type": "stream",
     "text": [
      " 1\n"
     ]
    }
   ],
   "source": [
    "artists = a2012['artist']\n",
    "names = []\n",
    "uris = []\n",
    "for artist in artists[0:25]:\n",
    "    search = sp.search(q = f'artist:{artist}', type = 'artist')['artists']['items'][0:3]\n",
    "    results = [s['name'] for s in search]\n",
    "    print(f'For {artist}, which index is correct? {results}')\n",
    "    index = int(input()) - 1\n",
    "    name = search[index]['name']\n",
    "    names.append(name)\n",
    "    uri = search[index]['uri']\n",
    "    uris.append(uri)"
   ]
  },
  {
   "cell_type": "code",
   "execution_count": 16,
   "id": "e7bea0a9-2a84-451c-bf82-aa4a38f1f6ae",
   "metadata": {},
   "outputs": [
    {
     "name": "stdout",
     "output_type": "stream",
     "text": [
      "For Owl City, which index is correct? ['Owl City', 'OREO feat. Owl City', 'City Owl Loungers']\n"
     ]
    },
    {
     "name": "stdin",
     "output_type": "stream",
     "text": [
      " 1\n"
     ]
    },
    {
     "name": "stdout",
     "output_type": "stream",
     "text": [
      "For Miguel, which index is correct? ['Miguel', 'Luis Miguel', 'Miguel Y Miguel']\n"
     ]
    },
    {
     "name": "stdin",
     "output_type": "stream",
     "text": [
      " 1\n"
     ]
    },
    {
     "name": "stdout",
     "output_type": "stream",
     "text": [
      "For Kirko Bangz, which index is correct? ['Kirko Bangz', 'Kirko Bangz', 'Kirko Bangz']\n"
     ]
    },
    {
     "name": "stdin",
     "output_type": "stream",
     "text": [
      " 1\n"
     ]
    },
    {
     "name": "stdout",
     "output_type": "stream",
     "text": [
      "For Christina Aguilera, which index is correct? ['Christina Aguilera', 'Karaoke - Christina Aguilera', 'Christina Aguilera (Karaoke)']\n"
     ]
    },
    {
     "name": "stdin",
     "output_type": "stream",
     "text": [
      " 1\n"
     ]
    },
    {
     "name": "stdout",
     "output_type": "stream",
     "text": [
      "For Keith Urban, which index is correct? ['Keith Urban', 'Keith Urban', 'Maurice Chevalier - Keith Urban']\n"
     ]
    },
    {
     "name": "stdin",
     "output_type": "stream",
     "text": [
      " 1\n"
     ]
    },
    {
     "name": "stdout",
     "output_type": "stream",
     "text": [
      "For Ke$ha, which index is correct? ['Hal Ketchum', 'Hannah Kerr', 'Kevin Hart']\n"
     ]
    },
    {
     "name": "stdin",
     "output_type": "stream",
     "text": [
      " 1\n"
     ]
    },
    {
     "name": "stdout",
     "output_type": "stream",
     "text": [
      "For Selena Gomez & The Scene, which index is correct? ['Selena Gomez & The Scene']\n"
     ]
    },
    {
     "name": "stdin",
     "output_type": "stream",
     "text": [
      " 1\n"
     ]
    },
    {
     "name": "stdout",
     "output_type": "stream",
     "text": [
      "For Christina Perri, which index is correct? ['Christina Perri', 'Christina Perrin', 'Christina Perri;David Hodges']\n"
     ]
    },
    {
     "name": "stdin",
     "output_type": "stream",
     "text": [
      " 1\n"
     ]
    },
    {
     "name": "stdout",
     "output_type": "stream",
     "text": [
      "For Ca$h Out, which index is correct? ['Ca$h Out', \"'Bat Out Of Hell' Original Cast\", 'Ca$h Out']\n"
     ]
    },
    {
     "name": "stdin",
     "output_type": "stream",
     "text": [
      " 1\n"
     ]
    },
    {
     "name": "stdout",
     "output_type": "stream",
     "text": [
      "For Eli Young Band, which index is correct? ['Eli Young Band']\n"
     ]
    },
    {
     "name": "stdin",
     "output_type": "stream",
     "text": [
      " 1\n"
     ]
    },
    {
     "name": "stdout",
     "output_type": "stream",
     "text": [
      "For Foster The People, which index is correct? ['Foster The People']\n"
     ]
    },
    {
     "name": "stdin",
     "output_type": "stream",
     "text": [
      " 1\n"
     ]
    },
    {
     "name": "stdout",
     "output_type": "stream",
     "text": [
      "For Linkin Park, which index is correct? ['Linkin Park', 'The Linkin Park Band', 'Karaoke - Linkin Park']\n"
     ]
    },
    {
     "name": "stdin",
     "output_type": "stream",
     "text": [
      " 1\n"
     ]
    },
    {
     "name": "stdout",
     "output_type": "stream",
     "text": [
      "For Of Monsters And Men, which index is correct? ['Of Monsters and Men']\n"
     ]
    },
    {
     "name": "stdin",
     "output_type": "stream",
     "text": [
      " 1\n"
     ]
    },
    {
     "name": "stdout",
     "output_type": "stream",
     "text": [
      "For Future, which index is correct? ['Future', 'Future Islands', 'Odd Future']\n"
     ]
    },
    {
     "name": "stdin",
     "output_type": "stream",
     "text": [
      " 1\n"
     ]
    },
    {
     "name": "stdout",
     "output_type": "stream",
     "text": [
      "For Love And Theft, which index is correct? ['Love and Theft']\n"
     ]
    },
    {
     "name": "stdin",
     "output_type": "stream",
     "text": [
      " 1\n"
     ]
    },
    {
     "name": "stdout",
     "output_type": "stream",
     "text": [
      "For Josh Turner, which index is correct? ['Josh Turner', 'Joshua Lee Turner', 'Josh Turner']\n"
     ]
    },
    {
     "name": "stdin",
     "output_type": "stream",
     "text": [
      " 1\n"
     ]
    },
    {
     "name": "stdout",
     "output_type": "stream",
     "text": [
      "For Snoop Dogg, which index is correct? ['Snoop Dogg', 'Jadakiss, Snoop Dogg, Pusha T', 'Snoop Dogg']\n"
     ]
    },
    {
     "name": "stdin",
     "output_type": "stream",
     "text": [
      " 1\n"
     ]
    },
    {
     "name": "stdout",
     "output_type": "stream",
     "text": [
      "For Gloriana , which index is correct? ['Gloriana', 'Gloriana', 'Gloriana Wills']\n"
     ]
    },
    {
     "name": "stdin",
     "output_type": "stream",
     "text": [
      " 1\n"
     ]
    },
    {
     "name": "stdout",
     "output_type": "stream",
     "text": [
      "For Dustin Lynch, which index is correct? ['Dustin Lynch']\n"
     ]
    },
    {
     "name": "stdin",
     "output_type": "stream",
     "text": [
      " 1\n"
     ]
    },
    {
     "name": "stdout",
     "output_type": "stream",
     "text": [
      "For Wale, which index is correct? ['Wale', 'Wale the Sage', 'Shatta Wale']\n"
     ]
    },
    {
     "name": "stdin",
     "output_type": "stream",
     "text": [
      " 1\n"
     ]
    },
    {
     "name": "stdout",
     "output_type": "stream",
     "text": [
      "For Rick Ross, which index is correct? ['Rick Ross', 'Rick Ross', 'Freeway Rick Ross']\n"
     ]
    },
    {
     "name": "stdin",
     "output_type": "stream",
     "text": [
      " 1\n"
     ]
    },
    {
     "name": "stdout",
     "output_type": "stream",
     "text": [
      "For Outasight, which index is correct? ['Outasight', 'OUTASIGHT', 'Outasight HB']\n"
     ]
    },
    {
     "name": "stdin",
     "output_type": "stream",
     "text": [
      " 1\n"
     ]
    },
    {
     "name": "stdout",
     "output_type": "stream",
     "text": [
      "For Frank Ocean, which index is correct? ['Frank Ocean', 'Frank Ocean (IT)', 'Frank \"Francis\" Ocean']\n"
     ]
    },
    {
     "name": "stdin",
     "output_type": "stream",
     "text": [
      " 1\n"
     ]
    },
    {
     "name": "stdout",
     "output_type": "stream",
     "text": [
      "For T-Pain, which index is correct? ['T-Pain', 'The Pains Of Being Pure At Heart', 'Madi Sipes & The Painted Blue']\n"
     ]
    },
    {
     "name": "stdin",
     "output_type": "stream",
     "text": [
      " 1\n"
     ]
    },
    {
     "name": "stdout",
     "output_type": "stream",
     "text": [
      "For Brantley Gilbert, which index is correct? ['Brantley Gilbert', 'The Brantley Gilbert Band']\n"
     ]
    },
    {
     "name": "stdin",
     "output_type": "stream",
     "text": [
      " 1\n"
     ]
    }
   ],
   "source": [
    "for artist in artists[75:100]:\n",
    "    search = sp.search(q = f'artist:{artist}', type = 'artist')['artists']['items'][0:3]\n",
    "    results = [s['name'] for s in search]\n",
    "    print(f'For {artist}, which index is correct? {results}')\n",
    "    index = int(input()) - 1\n",
    "    name = search[index]['name']\n",
    "    names.append(name)\n",
    "    uri = search[index]['uri']\n",
    "    uris.append(uri)"
   ]
  },
  {
   "cell_type": "code",
   "execution_count": 17,
   "id": "081d8cdb-0808-4b98-ad86-45c45c5ecefa",
   "metadata": {},
   "outputs": [],
   "source": [
    "a2012['uri'] = uris\n",
    "a2012['artist'] = names\n",
    "a2012.to_csv('data/artists_2012.csv', index = False)"
   ]
  },
  {
   "cell_type": "markdown",
   "id": "59bb6d7a-74e3-42f2-b722-ed275bca9c76",
   "metadata": {
    "jp-MarkdownHeadingCollapsed": true,
    "tags": []
   },
   "source": [
    "# 2015"
   ]
  },
  {
   "cell_type": "code",
   "execution_count": 6,
   "id": "c4c442e5-94aa-4e02-8ca6-32f320bd54e7",
   "metadata": {},
   "outputs": [
    {
     "name": "stdout",
     "output_type": "stream",
     "text": [
      "For The Weeknd, which index is correct? ['The Weeknd', 'The Weeknd, SRM', 'The Weeknd']\n"
     ]
    },
    {
     "name": "stdin",
     "output_type": "stream",
     "text": [
      " 1\n"
     ]
    },
    {
     "name": "stdout",
     "output_type": "stream",
     "text": [
      "For Taylor Swift, which index is correct? ['Taylor Swift', 'Taylor Swiftman']\n"
     ]
    },
    {
     "name": "stdin",
     "output_type": "stream",
     "text": [
      " 1\n"
     ]
    },
    {
     "name": "stdout",
     "output_type": "stream",
     "text": [
      "For Fetty Wap, which index is correct? ['Fetty Wap', 'Fetty Wap', 'Fetty Wap']\n"
     ]
    },
    {
     "name": "stdin",
     "output_type": "stream",
     "text": [
      " 1\n"
     ]
    },
    {
     "name": "stdout",
     "output_type": "stream",
     "text": [
      "For Ed Sheeran, which index is correct? ['Ed Sheeran', 'Ed Sheeran jr', 'Edward Sheeran']\n"
     ]
    },
    {
     "name": "stdin",
     "output_type": "stream",
     "text": [
      " 1\n"
     ]
    },
    {
     "name": "stdout",
     "output_type": "stream",
     "text": [
      "For Drake, which index is correct? ['Drake', 'Drakeo the Ruler', 'Nick Drake']\n"
     ]
    },
    {
     "name": "stdin",
     "output_type": "stream",
     "text": [
      " 1\n"
     ]
    },
    {
     "name": "stdout",
     "output_type": "stream",
     "text": [
      "For Maroon 5, which index is correct? ['Maroon 5', 'Maroon 5', '마론 파이브 (Maroon 5)']\n"
     ]
    },
    {
     "name": "stdin",
     "output_type": "stream",
     "text": [
      " 1\n"
     ]
    },
    {
     "name": "stdout",
     "output_type": "stream",
     "text": [
      "For Meghan Trainor, which index is correct? ['Meghan Trainor', 'Trainor, Meghan']\n"
     ]
    },
    {
     "name": "stdin",
     "output_type": "stream",
     "text": [
      " 1\n"
     ]
    },
    {
     "name": "stdout",
     "output_type": "stream",
     "text": [
      "For Mark Ronson, which index is correct? ['Mark Ronson', 'Mark Ronson Jay', 'RONSON MARK D/BHASKER JEFFREY/GALLASPY DEVON CHRISTOPHER/BRUNO MARS/HERNANDEZ PETER GENE/LAWRENCE PHILIP MARTIN II/SIMMONS LONNIE/WILSON RONNIE/WILSON CHARLES K/TAYLOR RUDOLPH/WILSON ROBERT LYNN/WILLIAMS NICHOLAUS JOSEPH']\n"
     ]
    },
    {
     "name": "stdin",
     "output_type": "stream",
     "text": [
      " 1\n"
     ]
    },
    {
     "name": "stdout",
     "output_type": "stream",
     "text": [
      "For Sam Smith, which index is correct? ['Sam Smith', 'Sammi Smith', 'Sam Smith']\n"
     ]
    },
    {
     "name": "stdin",
     "output_type": "stream",
     "text": [
      " 1\n"
     ]
    },
    {
     "name": "stdout",
     "output_type": "stream",
     "text": [
      "For WALK THE MOON, which index is correct? ['WALK THE MOON', 'The Moon walker', 'Walking To The Moon']\n"
     ]
    },
    {
     "name": "stdin",
     "output_type": "stream",
     "text": [
      " 1\n"
     ]
    },
    {
     "name": "stdout",
     "output_type": "stream",
     "text": [
      "For Ellie Goulding, which index is correct? ['Ellie Goulding', 'Tribute to Ellie Goulding', 'Made famous by Ellie Goulding']\n"
     ]
    },
    {
     "name": "stdin",
     "output_type": "stream",
     "text": [
      " 1\n"
     ]
    },
    {
     "name": "stdout",
     "output_type": "stream",
     "text": [
      "For Nicki Minaj, which index is correct? ['Nicki Minaj', 'David Guetta - Nicki Minaj - Flo Rida', 'Nickie Minaj']\n"
     ]
    },
    {
     "name": "stdin",
     "output_type": "stream",
     "text": [
      " 1\n"
     ]
    },
    {
     "name": "stdout",
     "output_type": "stream",
     "text": [
      "For Silento, which index is correct? ['Silentó', 'Silentography', 'Silentografía']\n"
     ]
    },
    {
     "name": "stdin",
     "output_type": "stream",
     "text": [
      " 1\n"
     ]
    },
    {
     "name": "stdout",
     "output_type": "stream",
     "text": [
      "For Wiz Khalifa, which index is correct? ['Wiz Khalifa', 'Wiz Khalifa', 'Wiz Khalifa']\n"
     ]
    },
    {
     "name": "stdin",
     "output_type": "stream",
     "text": [
      " 1\n"
     ]
    },
    {
     "name": "stdout",
     "output_type": "stream",
     "text": [
      "For OMI, which index is correct? ['OMI', 'Omido', 'OMINVS']\n"
     ]
    },
    {
     "name": "stdin",
     "output_type": "stream",
     "text": [
      " 1\n"
     ]
    },
    {
     "name": "stdout",
     "output_type": "stream",
     "text": [
      "For Justin Bieber, which index is correct? ['Justin Bieber', 'Justin Biebero', 'Cortana Flutist & Justin Bieber']\n"
     ]
    },
    {
     "name": "stdin",
     "output_type": "stream",
     "text": [
      " 1\n"
     ]
    },
    {
     "name": "stdout",
     "output_type": "stream",
     "text": [
      "For Selena Gomez, which index is correct? ['Selena Gomez', 'Selena Gomez & The Scene', 'Selena Marie Gomez']\n"
     ]
    },
    {
     "name": "stdin",
     "output_type": "stream",
     "text": [
      " 1\n"
     ]
    },
    {
     "name": "stdout",
     "output_type": "stream",
     "text": [
      "For Jason Derulo, which index is correct? ['Jason Derulo', 'Jason Joel Derulo', 'Jason Derulo Karaoke Band']\n"
     ]
    },
    {
     "name": "stdin",
     "output_type": "stream",
     "text": [
      " 1\n"
     ]
    },
    {
     "name": "stdout",
     "output_type": "stream",
     "text": [
      "For Nick Jonas, which index is correct? ['Nick Jonas', 'Nick Jonas & The Administration', 'Jonas Lars Nickolaus Fridh']\n"
     ]
    },
    {
     "name": "stdin",
     "output_type": "stream",
     "text": [
      " 1\n"
     ]
    },
    {
     "name": "stdout",
     "output_type": "stream",
     "text": [
      "For Hozier, which index is correct? ['Hozier', 'Andrew Hozier-Byrne', 'Andrew Hozier Byrne']\n"
     ]
    },
    {
     "name": "stdin",
     "output_type": "stream",
     "text": [
      " 1\n"
     ]
    },
    {
     "name": "stdout",
     "output_type": "stream",
     "text": [
      "For Fall Out Boy, which index is correct? ['Fall Out Boy', 'Fall Out Boy Piano Tribute']\n"
     ]
    },
    {
     "name": "stdin",
     "output_type": "stream",
     "text": [
      " 1\n"
     ]
    },
    {
     "name": "stdout",
     "output_type": "stream",
     "text": [
      "For Tove Lo, which index is correct? ['Tove Lo', 'Tove Lønskov', 'Tove Lonskov']\n"
     ]
    },
    {
     "name": "stdin",
     "output_type": "stream",
     "text": [
      " 1\n"
     ]
    },
    {
     "name": "stdout",
     "output_type": "stream",
     "text": [
      "For Sam Hunt, which index is correct? ['Sam Hunt', 'Sam Hunte', 'Sam Hunte']\n"
     ]
    },
    {
     "name": "stdin",
     "output_type": "stream",
     "text": [
      " 1\n"
     ]
    },
    {
     "name": "stdout",
     "output_type": "stream",
     "text": [
      "For One Direction, which index is correct? ['One Direction', 'Direction One', 'Ten Directions']\n"
     ]
    },
    {
     "name": "stdin",
     "output_type": "stream",
     "text": [
      " 1\n"
     ]
    },
    {
     "name": "stdout",
     "output_type": "stream",
     "text": [
      "For Rae Sremmurd, which index is correct? ['Rae Sremmurd', 'Slxm Jxmmi Of Rae Sremmurd', 'Slim Jxmmi of Rae Sremmurd']\n"
     ]
    },
    {
     "name": "stdin",
     "output_type": "stream",
     "text": [
      " 1\n"
     ]
    }
   ],
   "source": [
    "artists = a2015['artist']\n",
    "names = []\n",
    "uris = []\n",
    "for artist in artists[0:25]:\n",
    "    search = sp.search(q = f'artist:{artist}', type = 'artist')['artists']['items'][0:3]\n",
    "    results = [s['name'] for s in search]\n",
    "    print(f'For {artist}, which index is correct? {results}')\n",
    "    index = int(input()) - 1\n",
    "    name = search[index]['name']\n",
    "    names.append(name)\n",
    "    uri = search[index]['uri']\n",
    "    uris.append(uri)"
   ]
  },
  {
   "cell_type": "code",
   "execution_count": 6,
   "id": "38ab1d2f-623e-4e8c-a4be-df828e3ec37b",
   "metadata": {},
   "outputs": [
    {
     "name": "stdout",
     "output_type": "stream",
     "text": [
      "For Mr. Probz, which index is correct? ['Mr. Probz', 'Tribute to Mr. Probz and Robin Schulz']\n"
     ]
    },
    {
     "name": "stdin",
     "output_type": "stream",
     "text": [
      " 1\n"
     ]
    },
    {
     "name": "stdout",
     "output_type": "stream",
     "text": [
      "For A$ap Rocky, which index is correct? ['A$AP Rocky', 'A$ap, Rocky & iHu$tla']\n"
     ]
    },
    {
     "name": "stdin",
     "output_type": "stream",
     "text": [
      " 1\n"
     ]
    },
    {
     "name": "stdout",
     "output_type": "stream",
     "text": [
      "For Chris Janson, which index is correct? ['Chris Janson', 'Christine Janson']\n"
     ]
    },
    {
     "name": "stdin",
     "output_type": "stream",
     "text": [
      " 1\n"
     ]
    },
    {
     "name": "stdout",
     "output_type": "stream",
     "text": [
      "For Zedd, which index is correct? ['Zedd', 'ZEDDY WILL', 'Alberto Zedda']\n"
     ]
    },
    {
     "name": "stdin",
     "output_type": "stream",
     "text": [
      " 1\n"
     ]
    },
    {
     "name": "stdout",
     "output_type": "stream",
     "text": [
      "For Imagine Dragons, which index is correct? ['Imagine Dragons', 'Imagine Nastya Dragons']\n"
     ]
    },
    {
     "name": "stdin",
     "output_type": "stream",
     "text": [
      " 1\n"
     ]
    },
    {
     "name": "stdout",
     "output_type": "stream",
     "text": [
      "For Remy Boyz, which index is correct? ['Remy Boyz']\n"
     ]
    },
    {
     "name": "stdin",
     "output_type": "stream",
     "text": [
      " 1\n"
     ]
    },
    {
     "name": "stdout",
     "output_type": "stream",
     "text": [
      "For Paul McCartney, which index is correct? ['Paul McCartney', 'Paul McCartney Experience', \"Alan McCartney & Paul Bradley & Jason O'Rourke & Brendan O'Hare & Ray Gallen\"]\n"
     ]
    },
    {
     "name": "stdin",
     "output_type": "stream",
     "text": [
      " 1\n"
     ]
    },
    {
     "name": "stdout",
     "output_type": "stream",
     "text": [
      "For James Newton Howard, which index is correct? ['James Newton Howard', 'Robbie Buchanan, James Newton Howard, Lennie Castro, Nathan East, Mike Landau, Carlos Vega']\n"
     ]
    },
    {
     "name": "stdin",
     "output_type": "stream",
     "text": [
      " 1\n"
     ]
    },
    {
     "name": "stdout",
     "output_type": "stream",
     "text": [
      "For I LOVE MAKONNEN, which index is correct? ['ILOVEMAKONNEN', 'I Love Makonnen', 'I LOVE MAKONNEN']\n"
     ]
    },
    {
     "name": "stdin",
     "output_type": "stream",
     "text": [
      " 1\n"
     ]
    }
   ],
   "source": [
    "for artist in artists[90:99]:\n",
    "    search = sp.search(q = f'artist:{artist}', type = 'artist')['artists']['items'][0:3]\n",
    "    results = [s['name'] for s in search]\n",
    "    print(f'For {artist}, which index is correct? {results}')\n",
    "    index = int(input()) - 1\n",
    "    name = search[index]['name']\n",
    "    names.append(name)\n",
    "    uri = search[index]['uri']\n",
    "    uris.append(uri)"
   ]
  },
  {
   "cell_type": "code",
   "execution_count": 7,
   "id": "0634cef3-c279-4c29-8c7e-a7619899da31",
   "metadata": {},
   "outputs": [],
   "source": [
    "a2015['uri'] = uris\n",
    "a2015['artist'] = names\n",
    "a2015.to_csv('data/artists_2015.csv', index = False)"
   ]
  },
  {
   "cell_type": "markdown",
   "id": "d3219fa8-459d-4883-8c56-3c0a41b48af7",
   "metadata": {
    "jp-MarkdownHeadingCollapsed": true,
    "tags": []
   },
   "source": [
    "# 2018"
   ]
  },
  {
   "cell_type": "code",
   "execution_count": 5,
   "id": "817a0472-3312-4bfc-951c-f4284bef30e0",
   "metadata": {},
   "outputs": [
    {
     "name": "stdout",
     "output_type": "stream",
     "text": [
      "For Drake, which index is correct? ['Drake', 'Drakeo the Ruler', 'Nick Drake']\n"
     ]
    },
    {
     "name": "stdin",
     "output_type": "stream",
     "text": [
      " 1\n"
     ]
    },
    {
     "name": "stdout",
     "output_type": "stream",
     "text": [
      "For Post Malone, which index is correct? ['Post Malone', 'Post Malone Sample']\n"
     ]
    },
    {
     "name": "stdin",
     "output_type": "stream",
     "text": [
      " 1\n"
     ]
    },
    {
     "name": "stdout",
     "output_type": "stream",
     "text": [
      "For Cardi B, which index is correct? ['Cardi B', 'The Bluegrass Cardinals', 'Cardiff Brothers']\n"
     ]
    },
    {
     "name": "stdin",
     "output_type": "stream",
     "text": [
      " 1\n"
     ]
    },
    {
     "name": "stdout",
     "output_type": "stream",
     "text": [
      "For Ed Sheeran, which index is correct? ['Ed Sheeran', 'Ed Sheeran jr', 'Edward Sheeran']\n"
     ]
    },
    {
     "name": "stdin",
     "output_type": "stream",
     "text": [
      " 1\n"
     ]
    },
    {
     "name": "stdout",
     "output_type": "stream",
     "text": [
      "For Imagine Dragons, which index is correct? ['Imagine Dragons', 'Imagine Nastya Dragons']\n"
     ]
    },
    {
     "name": "stdin",
     "output_type": "stream",
     "text": [
      " 1\n"
     ]
    },
    {
     "name": "stdout",
     "output_type": "stream",
     "text": [
      "For Camila Cabello, which index is correct? ['Camila Cabello', 'Camila Younger Cabello', 'Karla Camila Cabello Estrabao']\n"
     ]
    },
    {
     "name": "stdin",
     "output_type": "stream",
     "text": [
      " 1\n"
     ]
    },
    {
     "name": "stdout",
     "output_type": "stream",
     "text": [
      "For XXXTENTACION, which index is correct? ['XXXTENTACION', 'Ai XXXTENTACION', 'The WAV3 Xxxtentacion']\n"
     ]
    },
    {
     "name": "stdin",
     "output_type": "stream",
     "text": [
      " 1\n"
     ]
    },
    {
     "name": "stdout",
     "output_type": "stream",
     "text": [
      "For Ariana Grande, which index is correct? ['Ariana Grande', 'Ariana Grande-Butera']\n"
     ]
    },
    {
     "name": "stdin",
     "output_type": "stream",
     "text": [
      " 1\n"
     ]
    },
    {
     "name": "stdout",
     "output_type": "stream",
     "text": [
      "For Migos, which index is correct? ['Migos', 'Young Migos', 'Migos']\n"
     ]
    },
    {
     "name": "stdin",
     "output_type": "stream",
     "text": [
      " 1\n"
     ]
    },
    {
     "name": "stdout",
     "output_type": "stream",
     "text": [
      "For Maroon 5, which index is correct? ['Maroon 5', 'Maroon 5', '마론 파이브 (Maroon 5)']\n"
     ]
    },
    {
     "name": "stdin",
     "output_type": "stream",
     "text": [
      " 1\n"
     ]
    },
    {
     "name": "stdout",
     "output_type": "stream",
     "text": [
      "For Juice WRLD, which index is correct? ['Juice WRLD', 'Ai Juice Wrld', 'Juice WRLD AI']\n"
     ]
    },
    {
     "name": "stdin",
     "output_type": "stream",
     "text": [
      " 1\n"
     ]
    },
    {
     "name": "stdout",
     "output_type": "stream",
     "text": [
      "For Dua Lipa, which index is correct? ['Dua Lipa', 'Dua Lipanda', 'Berklee Dua Lipa Project']\n"
     ]
    },
    {
     "name": "stdin",
     "output_type": "stream",
     "text": [
      " 1\n"
     ]
    },
    {
     "name": "stdout",
     "output_type": "stream",
     "text": [
      "For Travis Scott, which index is correct? ['Travis Scott', 'Ryan Scott Travis', 'Travis Scott']\n"
     ]
    },
    {
     "name": "stdin",
     "output_type": "stream",
     "text": [
      " 1\n"
     ]
    },
    {
     "name": "stdout",
     "output_type": "stream",
     "text": [
      "For Halsey, which index is correct? ['Halsey', 'Simon Halsey', 'Halsey Laiz']\n"
     ]
    },
    {
     "name": "stdin",
     "output_type": "stream",
     "text": [
      " 1\n"
     ]
    },
    {
     "name": "stdout",
     "output_type": "stream",
     "text": [
      "For Khalid, which index is correct? ['Khalid', 'DJ Khalid', 'Annural Khalid']\n"
     ]
    },
    {
     "name": "stdin",
     "output_type": "stream",
     "text": [
      " 1\n"
     ]
    },
    {
     "name": "stdout",
     "output_type": "stream",
     "text": [
      "For 6ix9ine, which index is correct? ['6ix9ine', '6ix9inebule', 'Tekashi 6ix9ine']\n"
     ]
    },
    {
     "name": "stdin",
     "output_type": "stream",
     "text": [
      " 1\n"
     ]
    },
    {
     "name": "stdout",
     "output_type": "stream",
     "text": [
      "For Florida Georgia Line, which index is correct? ['Florida Georgia Line']\n"
     ]
    },
    {
     "name": "stdin",
     "output_type": "stream",
     "text": [
      " 1\n"
     ]
    },
    {
     "name": "stdout",
     "output_type": "stream",
     "text": [
      "For Ella Mai, which index is correct? ['Ella Mai', 'Ella Mai', 'Ella Mainholz']\n"
     ]
    },
    {
     "name": "stdin",
     "output_type": "stream",
     "text": [
      " 1\n"
     ]
    },
    {
     "name": "stdout",
     "output_type": "stream",
     "text": [
      "For Kendrick Lamar, which index is correct? ['Kendrick Lamar', \"Kendrick Lamar's Moneytrees\", 'Kendrick Lamar Cousin']\n"
     ]
    },
    {
     "name": "stdin",
     "output_type": "stream",
     "text": [
      " 1\n"
     ]
    },
    {
     "name": "stdout",
     "output_type": "stream",
     "text": [
      "For Taylor Swift, which index is correct? ['Taylor Swift', 'Taylor Swiftman']\n"
     ]
    },
    {
     "name": "stdin",
     "output_type": "stream",
     "text": [
      " 1\n"
     ]
    },
    {
     "name": "stdout",
     "output_type": "stream",
     "text": [
      "For Nicki Minaj, which index is correct? ['Nicki Minaj', 'David Guetta - Nicki Minaj - Flo Rida', 'Nickie Minaj']\n"
     ]
    },
    {
     "name": "stdin",
     "output_type": "stream",
     "text": [
      " 1\n"
     ]
    },
    {
     "name": "stdout",
     "output_type": "stream",
     "text": [
      "For Bebe Rexha, which index is correct? ['Bebe Rexha']\n"
     ]
    },
    {
     "name": "stdin",
     "output_type": "stream",
     "text": [
      " 1\n"
     ]
    },
    {
     "name": "stdout",
     "output_type": "stream",
     "text": [
      "For Bazzi, which index is correct? ['Bazzi', 'Bazzi vs.', 'Antonio Bazzini']\n"
     ]
    },
    {
     "name": "stdin",
     "output_type": "stream",
     "text": [
      " 1\n"
     ]
    },
    {
     "name": "stdout",
     "output_type": "stream",
     "text": [
      "For Marshmello, which index is correct? ['Marshmello', 'Far East Movement & Marshmello', 'Marshmellow Band']\n"
     ]
    },
    {
     "name": "stdin",
     "output_type": "stream",
     "text": [
      " 1\n"
     ]
    },
    {
     "name": "stdout",
     "output_type": "stream",
     "text": [
      "For Eminem, which index is correct? ['Eminem', \"Emine'm\", 'La EmineMCa']\n"
     ]
    },
    {
     "name": "stdin",
     "output_type": "stream",
     "text": [
      " 1\n"
     ]
    }
   ],
   "source": [
    "artists = a2018['artist']\n",
    "names = []\n",
    "uris = []\n",
    "for artist in artists[0:25]:\n",
    "    search = sp.search(q = f'artist:{artist}', type = 'artist')['artists']['items'][0:3]\n",
    "    results = [s['name'] for s in search]\n",
    "    print(f'For {artist}, which index is correct? {results}')\n",
    "    index = int(input()) - 1\n",
    "    name = search[index]['name']\n",
    "    names.append(name)\n",
    "    uri = search[index]['uri']\n",
    "    uris.append(uri)"
   ]
  },
  {
   "cell_type": "code",
   "execution_count": 8,
   "id": "3b0bc8ee-de91-410e-9262-99ff095b8f98",
   "metadata": {},
   "outputs": [
    {
     "name": "stdout",
     "output_type": "stream",
     "text": [
      "For Anne-Marie, which index is correct? ['Anne-Marie', 'Anne-Marie-Choon', 'Anne-Marie Hildebrandt']\n"
     ]
    },
    {
     "name": "stdin",
     "output_type": "stream",
     "text": [
      " 1\n"
     ]
    },
    {
     "name": "stdout",
     "output_type": "stream",
     "text": [
      "For Lil Dicky, which index is correct? ['Lil Dicky']\n"
     ]
    },
    {
     "name": "stdin",
     "output_type": "stream",
     "text": [
      " 1\n"
     ]
    },
    {
     "name": "stdout",
     "output_type": "stream",
     "text": [
      "For YG, which index is correct? ['YG', 'YGTUT', 'YG Hypnos']\n"
     ]
    },
    {
     "name": "stdin",
     "output_type": "stream",
     "text": [
      " 1\n"
     ]
    },
    {
     "name": "stdout",
     "output_type": "stream",
     "text": [
      "For Beyonce, which index is correct? ['Beyoncé', 'Beyonce Smith', 'Mc Beyonce']\n"
     ]
    },
    {
     "name": "stdin",
     "output_type": "stream",
     "text": [
      " 1\n"
     ]
    },
    {
     "name": "stdout",
     "output_type": "stream",
     "text": [
      "For DJ Khaled, which index is correct? ['DJ Khaled', 'DJ Khaleds Son', 'Dj Khaled And E Class']\n"
     ]
    },
    {
     "name": "stdin",
     "output_type": "stream",
     "text": [
      " 1\n"
     ]
    },
    {
     "name": "stdout",
     "output_type": "stream",
     "text": [
      "For Chris Brown, which index is correct? ['Chris Brown', 'Chris Brown', 'Chris Brown']\n"
     ]
    },
    {
     "name": "stdin",
     "output_type": "stream",
     "text": [
      " 1\n"
     ]
    },
    {
     "name": "stdout",
     "output_type": "stream",
     "text": [
      "For Blake Shelton, which index is correct? ['Blake Shelton', 'Blake Tollison Shelton', \"Blake Shelton's Karaoke Band\"]\n"
     ]
    },
    {
     "name": "stdin",
     "output_type": "stream",
     "text": [
      " 1\n"
     ]
    },
    {
     "name": "stdout",
     "output_type": "stream",
     "text": [
      "For Gucci Mane, which index is correct? ['Gucci Mane', 'Birdman & Gucci Mane', 'Tapemasters Inc and Gucci Mane']\n"
     ]
    },
    {
     "name": "stdin",
     "output_type": "stream",
     "text": [
      " 1\n"
     ]
    },
    {
     "name": "stdout",
     "output_type": "stream",
     "text": [
      "For Quavo, which index is correct? ['Quavo', 'Sos Quavo', 'Quavodrum']\n"
     ]
    },
    {
     "name": "stdin",
     "output_type": "stream",
     "text": [
      " 1\n"
     ]
    },
    {
     "name": "stdout",
     "output_type": "stream",
     "text": [
      "For The Carters, which index is correct? ['The Carters', 'The Carters', 'The Shirley Carters']\n"
     ]
    },
    {
     "name": "stdin",
     "output_type": "stream",
     "text": [
      " 1\n"
     ]
    },
    {
     "name": "stdout",
     "output_type": "stream",
     "text": [
      "For Lil Skies, which index is correct? ['Lil Skies', 'Lilac Skies', 'Lil Skies Beats']\n"
     ]
    },
    {
     "name": "stdin",
     "output_type": "stream",
     "text": [
      " 1\n"
     ]
    },
    {
     "name": "stdout",
     "output_type": "stream",
     "text": [
      "For Chris Stapleton, which index is correct? ['Chris Stapleton', 'Chris Stapleton']\n"
     ]
    },
    {
     "name": "stdin",
     "output_type": "stream",
     "text": [
      " 1\n"
     ]
    },
    {
     "name": "stdout",
     "output_type": "stream",
     "text": [
      "For MAX, which index is correct? ['Ava Max', 'MAX', 'Max Richter']\n"
     ]
    },
    {
     "name": "stdin",
     "output_type": "stream",
     "text": [
      " 2\n"
     ]
    },
    {
     "name": "stdout",
     "output_type": "stream",
     "text": [
      "For Ozuna, which index is correct? ['Ozuna', 'Sunny Ozuna And Sunliners', 'Sunny Ozuna']\n"
     ]
    },
    {
     "name": "stdin",
     "output_type": "stream",
     "text": [
      " 1\n"
     ]
    },
    {
     "name": "stdout",
     "output_type": "stream",
     "text": [
      "For P!nk, which index is correct? ['P!nk', 'Nk Profeta', 'Patria NK']\n"
     ]
    },
    {
     "name": "stdin",
     "output_type": "stream",
     "text": [
      " 1\n"
     ]
    },
    {
     "name": "stdout",
     "output_type": "stream",
     "text": [
      "For Miguel, which index is correct? ['Miguel', 'Luis Miguel', 'Miguel Y Miguel']\n"
     ]
    },
    {
     "name": "stdin",
     "output_type": "stream",
     "text": [
      " 1\n"
     ]
    },
    {
     "name": "stdout",
     "output_type": "stream",
     "text": [
      "For Calvin Harris, which index is correct? ['Calvin Harris', 'Calvin Harris', 'Calvin Harris']\n"
     ]
    },
    {
     "name": "stdin",
     "output_type": "stream",
     "text": [
      " 1\n"
     ]
    },
    {
     "name": "stdout",
     "output_type": "stream",
     "text": [
      "For Panic! At The Disco, which index is correct? ['Panic! At The Disco']\n"
     ]
    },
    {
     "name": "stdin",
     "output_type": "stream",
     "text": [
      " 1\n"
     ]
    },
    {
     "name": "stdout",
     "output_type": "stream",
     "text": [
      "For lovelytheband, which index is correct? ['lovelytheband']\n"
     ]
    },
    {
     "name": "stdin",
     "output_type": "stream",
     "text": [
      " 1\n"
     ]
    },
    {
     "name": "stdout",
     "output_type": "stream",
     "text": [
      "For Foster The People, which index is correct? ['Foster The People']\n"
     ]
    },
    {
     "name": "stdin",
     "output_type": "stream",
     "text": [
      " 1\n"
     ]
    },
    {
     "name": "stdout",
     "output_type": "stream",
     "text": [
      "For Eric Church, which index is correct? ['Eric Church', 'Cortana Flutist & Eric Church', 'Eric B Oniver & the Church']\n"
     ]
    },
    {
     "name": "stdin",
     "output_type": "stream",
     "text": [
      " 1\n"
     ]
    },
    {
     "name": "stdout",
     "output_type": "stream",
     "text": [
      "For Chris Young, which index is correct? ['Chris Young', 'Christopher Young', 'Young Chris']\n"
     ]
    },
    {
     "name": "stdin",
     "output_type": "stream",
     "text": [
      " 1\n"
     ]
    },
    {
     "name": "stdout",
     "output_type": "stream",
     "text": [
      "For A$AP Ferg, which index is correct? ['A$AP Ferg']\n"
     ]
    },
    {
     "name": "stdin",
     "output_type": "stream",
     "text": [
      " 1\n"
     ]
    },
    {
     "name": "stdout",
     "output_type": "stream",
     "text": [
      "For A$AP Rocky, which index is correct? ['A$AP Rocky', 'A$ap, Rocky & iHu$tla']\n"
     ]
    },
    {
     "name": "stdin",
     "output_type": "stream",
     "text": [
      " 1\n"
     ]
    },
    {
     "name": "stdout",
     "output_type": "stream",
     "text": [
      "For Queen Naija, which index is correct? ['Queen Naija']\n"
     ]
    },
    {
     "name": "stdin",
     "output_type": "stream",
     "text": [
      " 1\n"
     ]
    }
   ],
   "source": [
    "for artist in artists[75:100]:\n",
    "    search = sp.search(q = f'artist:{artist}', type = 'artist')['artists']['items'][0:3]\n",
    "    results = [s['name'] for s in search]\n",
    "    print(f'For {artist}, which index is correct? {results}')\n",
    "    index = int(input()) - 1\n",
    "    name = search[index]['name']\n",
    "    names.append(name)\n",
    "    uri = search[index]['uri']\n",
    "    uris.append(uri)"
   ]
  },
  {
   "cell_type": "code",
   "execution_count": 9,
   "id": "57a7223e-baa6-4c86-bbf1-c8d342703137",
   "metadata": {},
   "outputs": [],
   "source": [
    "a2018['uri'] = uris\n",
    "a2018['artist'] = names\n",
    "a2018.to_csv('data/artists_2018.csv', index = False)"
   ]
  },
  {
   "cell_type": "markdown",
   "id": "a764ba50-18af-465f-8c6a-1ac73f940e40",
   "metadata": {},
   "source": [
    "# 2021"
   ]
  },
  {
   "cell_type": "code",
   "execution_count": 10,
   "id": "6d87a5ef-5d14-476f-a01b-6e849b24c202",
   "metadata": {},
   "outputs": [
    {
     "name": "stdout",
     "output_type": "stream",
     "text": [
      "For Olivia Rodrigo, which index is correct? ['Olivia Rodrigo', 'Olivia Isabel Rodrigo']\n"
     ]
    },
    {
     "name": "stdin",
     "output_type": "stream",
     "text": [
      " 1\n"
     ]
    },
    {
     "name": "stdout",
     "output_type": "stream",
     "text": [
      "For Drake, which index is correct? ['Drake', 'Drakeo the Ruler', 'Nick Drake']\n"
     ]
    },
    {
     "name": "stdin",
     "output_type": "stream",
     "text": [
      " 1\n"
     ]
    },
    {
     "name": "stdout",
     "output_type": "stream",
     "text": [
      "For The Weeknd, which index is correct? ['The Weeknd', 'The Weeknd, SRM', 'The Weeknd']\n"
     ]
    },
    {
     "name": "stdin",
     "output_type": "stream",
     "text": [
      " 1\n"
     ]
    },
    {
     "name": "stdout",
     "output_type": "stream",
     "text": [
      "For Justin Bieber, which index is correct? ['Justin Bieber', 'Justin Biebero', 'Cortana Flutist & Justin Bieber']\n"
     ]
    },
    {
     "name": "stdin",
     "output_type": "stream",
     "text": [
      " 1\n"
     ]
    },
    {
     "name": "stdout",
     "output_type": "stream",
     "text": [
      "For Doja Cat, which index is correct? ['Doja Cat']\n"
     ]
    },
    {
     "name": "stdin",
     "output_type": "stream",
     "text": [
      " 1\n"
     ]
    },
    {
     "name": "stdout",
     "output_type": "stream",
     "text": [
      "For Ariana Grande, which index is correct? ['Ariana Grande', 'Ariana Grande-Butera']\n"
     ]
    },
    {
     "name": "stdin",
     "output_type": "stream",
     "text": [
      " 1\n"
     ]
    },
    {
     "name": "stdout",
     "output_type": "stream",
     "text": [
      "For Dua Lipa, which index is correct? ['Dua Lipa', 'Dua Lipanda', 'Berklee Dua Lipa Project']\n"
     ]
    },
    {
     "name": "stdin",
     "output_type": "stream",
     "text": [
      " 1\n"
     ]
    },
    {
     "name": "stdout",
     "output_type": "stream",
     "text": [
      "For BTS, which index is correct? ['BTS', 'BTS World', 'CTAH BTS']\n"
     ]
    },
    {
     "name": "stdin",
     "output_type": "stream",
     "text": [
      " 1\n"
     ]
    },
    {
     "name": "stdout",
     "output_type": "stream",
     "text": [
      "For Lil Nas X, which index is correct? ['Lil Nas X']\n"
     ]
    },
    {
     "name": "stdin",
     "output_type": "stream",
     "text": [
      " 1\n"
     ]
    },
    {
     "name": "stdout",
     "output_type": "stream",
     "text": [
      "For Morgan Wallen, which index is correct? ['Morgan Wallen']\n"
     ]
    },
    {
     "name": "stdin",
     "output_type": "stream",
     "text": [
      " 1\n"
     ]
    },
    {
     "name": "stdout",
     "output_type": "stream",
     "text": [
      "For Luke Combs, which index is correct? ['Luke Combs']\n"
     ]
    },
    {
     "name": "stdin",
     "output_type": "stream",
     "text": [
      " 1\n"
     ]
    },
    {
     "name": "stdout",
     "output_type": "stream",
     "text": [
      "For The Kid LAROI, which index is correct? ['The Kid LAROI']\n"
     ]
    },
    {
     "name": "stdin",
     "output_type": "stream",
     "text": [
      " 1\n"
     ]
    },
    {
     "name": "stdout",
     "output_type": "stream",
     "text": [
      "For Pop Smoke, which index is correct? ['Pop Smoke', 'Pop Smoke', 'Smoke Pop']\n"
     ]
    },
    {
     "name": "stdin",
     "output_type": "stream",
     "text": [
      " 1\n"
     ]
    },
    {
     "name": "stdout",
     "output_type": "stream",
     "text": [
      "For Megan Thee Stallion, which index is correct? ['Megan Thee Stallion']\n"
     ]
    },
    {
     "name": "stdin",
     "output_type": "stream",
     "text": [
      " 1\n"
     ]
    },
    {
     "name": "stdout",
     "output_type": "stream",
     "text": [
      "For Lil Baby, which index is correct? ['Lil Baby', 'Lil Baby Grand', 'Lil Baby']\n"
     ]
    },
    {
     "name": "stdin",
     "output_type": "stream",
     "text": [
      " 1\n"
     ]
    },
    {
     "name": "stdout",
     "output_type": "stream",
     "text": [
      "For DaBaby, which index is correct? ['DaBaby', 'dababy2015murder', 'Dababy_Godvert']\n"
     ]
    },
    {
     "name": "stdin",
     "output_type": "stream",
     "text": [
      " 1\n"
     ]
    },
    {
     "name": "stdout",
     "output_type": "stream",
     "text": [
      "For Ed Sheeran, which index is correct? ['Ed Sheeran', 'Ed Sheeran jr', 'Edward Sheeran']\n"
     ]
    },
    {
     "name": "stdin",
     "output_type": "stream",
     "text": [
      " 1\n"
     ]
    },
    {
     "name": "stdout",
     "output_type": "stream",
     "text": [
      "For Billie Eilish, which index is correct? ['Billie Eilish', \"Billie Eilish O'Connell\", \"Billie Eilish O'Connell and Finneas Baird O'Connell\"]\n"
     ]
    },
    {
     "name": "stdin",
     "output_type": "stream",
     "text": [
      " 1\n"
     ]
    },
    {
     "name": "stdout",
     "output_type": "stream",
     "text": [
      "For Moneybagg Yo, which index is correct? ['Moneybagg Yo']\n"
     ]
    },
    {
     "name": "stdin",
     "output_type": "stream",
     "text": [
      " 1\n"
     ]
    },
    {
     "name": "stdout",
     "output_type": "stream",
     "text": [
      "For Lil Durk, which index is correct? ['Lil Durk', 'Lil Durk', 'Lil Durk']\n"
     ]
    },
    {
     "name": "stdin",
     "output_type": "stream",
     "text": [
      " 1\n"
     ]
    },
    {
     "name": "stdout",
     "output_type": "stream",
     "text": [
      "For Bad Bunny, which index is correct? ['Bad Bunny', 'Mr Bad Bunny', 'Bad Bunny Imperio']\n"
     ]
    },
    {
     "name": "stdin",
     "output_type": "stream",
     "text": [
      " 1\n"
     ]
    },
    {
     "name": "stdout",
     "output_type": "stream",
     "text": [
      "For Polo G, which index is correct? ['Polo G', 'Polo Gonzalez', 'Grupo Polo Montañes']\n"
     ]
    },
    {
     "name": "stdin",
     "output_type": "stream",
     "text": [
      " 1\n"
     ]
    },
    {
     "name": "stdout",
     "output_type": "stream",
     "text": [
      "For Cardi B, which index is correct? ['Cardi B', 'The Bluegrass Cardinals', 'Cardiff Brothers']\n"
     ]
    },
    {
     "name": "stdin",
     "output_type": "stream",
     "text": [
      " 1\n"
     ]
    },
    {
     "name": "stdout",
     "output_type": "stream",
     "text": [
      "For 24kGoldn, which index is correct? ['24kGoldn', '24kgoldn', '24kGoldn']\n"
     ]
    },
    {
     "name": "stdin",
     "output_type": "stream",
     "text": [
      " 1\n"
     ]
    },
    {
     "name": "stdout",
     "output_type": "stream",
     "text": [
      "For Taylor Swift, which index is correct? ['Taylor Swift', 'Taylor Swiftman']\n"
     ]
    },
    {
     "name": "stdin",
     "output_type": "stream",
     "text": [
      " 1\n"
     ]
    }
   ],
   "source": [
    "artists = a2021['artist']\n",
    "names = []\n",
    "uris = []\n",
    "for artist in artists[0:25]:\n",
    "    search = sp.search(q = f'artist:{artist}', type = 'artist')['artists']['items'][0:3]\n",
    "    results = [s['name'] for s in search]\n",
    "    print(f'For {artist}, which index is correct? {results}')\n",
    "    index = int(input()) - 1\n",
    "    name = search[index]['name']\n",
    "    names.append(name)\n",
    "    uri = search[index]['uri']\n",
    "    uris.append(uri)"
   ]
  },
  {
   "cell_type": "code",
   "execution_count": 13,
   "id": "56ce8343-78c8-41af-8e87-1748ac3f3ec4",
   "metadata": {},
   "outputs": [
    {
     "name": "stdout",
     "output_type": "stream",
     "text": [
      "For Andy Williams, which index is correct? ['Andy Williams', 'Andy Williams', 'Andy Williamson']\n"
     ]
    },
    {
     "name": "stdin",
     "output_type": "stream",
     "text": [
      " 1\n"
     ]
    },
    {
     "name": "stdout",
     "output_type": "stream",
     "text": [
      "For Travis Scott, which index is correct? ['Travis Scott', 'Ryan Scott Travis', 'Travis Scott']\n"
     ]
    },
    {
     "name": "stdin",
     "output_type": "stream",
     "text": [
      " 1\n"
     ]
    },
    {
     "name": "stdout",
     "output_type": "stream",
     "text": [
      "For Eric Church, which index is correct? ['Eric Church', 'Cortana Flutist & Eric Church', 'Eric B Oniver & the Church']\n"
     ]
    },
    {
     "name": "stdin",
     "output_type": "stream",
     "text": [
      " 1\n"
     ]
    },
    {
     "name": "stdout",
     "output_type": "stream",
     "text": [
      "For Brenda Lee, which index is correct? ['Brenda Lee', 'Brenda Lee Eager', 'Brendan Lee']\n"
     ]
    },
    {
     "name": "stdin",
     "output_type": "stream",
     "text": [
      " 1\n"
     ]
    },
    {
     "name": "stdout",
     "output_type": "stream",
     "text": [
      "For Ritt Momney, which index is correct? ['Ritt Momney']\n"
     ]
    },
    {
     "name": "stdin",
     "output_type": "stream",
     "text": [
      " 1\n"
     ]
    },
    {
     "name": "stdout",
     "output_type": "stream",
     "text": [
      "For Rauw Alejandro, which index is correct? ['Rauw Alejandro', 'Rauw Alejandro', 'rauw alejandro']\n"
     ]
    },
    {
     "name": "stdin",
     "output_type": "stream",
     "text": [
      " 1\n"
     ]
    },
    {
     "name": "stdout",
     "output_type": "stream",
     "text": [
      "For Morray, which index is correct? ['Morray', 'Morray', 'Morray']\n"
     ]
    },
    {
     "name": "stdin",
     "output_type": "stream",
     "text": [
      " 1\n"
     ]
    },
    {
     "name": "stdout",
     "output_type": "stream",
     "text": [
      "For Cole Swindell, which index is correct? ['Cole Swindell']\n"
     ]
    },
    {
     "name": "stdin",
     "output_type": "stream",
     "text": [
      " 1\n"
     ]
    },
    {
     "name": "stdout",
     "output_type": "stream",
     "text": [
      "For Lainey Wilson, which index is correct? ['Lainey Wilson', 'Lainey Wilson']\n"
     ]
    },
    {
     "name": "stdin",
     "output_type": "stream",
     "text": [
      " 1\n"
     ]
    },
    {
     "name": "stdout",
     "output_type": "stream",
     "text": [
      "For Migos, which index is correct? ['Migos', 'Young Migos', 'Migos']\n"
     ]
    },
    {
     "name": "stdin",
     "output_type": "stream",
     "text": [
      " 1\n"
     ]
    },
    {
     "name": "stdout",
     "output_type": "stream",
     "text": [
      "For Wizkid, which index is correct? ['Wizkid', 'WizKid', 'Wizkid']\n"
     ]
    },
    {
     "name": "stdin",
     "output_type": "stream",
     "text": [
      " 1\n"
     ]
    },
    {
     "name": "stdout",
     "output_type": "stream",
     "text": [
      "For BRS Kash, which index is correct? ['BRS Kash', 'BRS Kash', 'BRS Kash']\n"
     ]
    },
    {
     "name": "stdin",
     "output_type": "stream",
     "text": [
      " 1\n"
     ]
    },
    {
     "name": "stdout",
     "output_type": "stream",
     "text": [
      "For Farruko, which index is correct? ['Farruko', 'Nengo Flow,Nova Y Jory,J Alvarez,Farruko', 'Tory Lanez y Farruko']\n"
     ]
    },
    {
     "name": "stdin",
     "output_type": "stream",
     "text": [
      " 1\n"
     ]
    },
    {
     "name": "stdout",
     "output_type": "stream",
     "text": [
      "For Ryan Hurd, which index is correct? ['Ryan Hurd', 'Ryan Hurd', 'Ryan J. Hurdle']\n"
     ]
    },
    {
     "name": "stdin",
     "output_type": "stream",
     "text": [
      " 1\n"
     ]
    },
    {
     "name": "stdout",
     "output_type": "stream",
     "text": [
      "For Sam Hunt, which index is correct? ['Sam Hunt', 'Sam Hunte', 'Sam Hunte']\n"
     ]
    },
    {
     "name": "stdin",
     "output_type": "stream",
     "text": [
      " 1\n"
     ]
    },
    {
     "name": "stdout",
     "output_type": "stream",
     "text": [
      "For Dierks Bentley, which index is correct? ['Dierks Bentley', \"Dierks Bentley & The Travelin' McCourys\", 'Mike Alan Ward, Dierks Bentley']\n"
     ]
    },
    {
     "name": "stdin",
     "output_type": "stream",
     "text": [
      " 1\n"
     ]
    },
    {
     "name": "stdout",
     "output_type": "stream",
     "text": [
      "For Jake Owen, which index is correct? ['Jake Owen', 'Jake Owens', 'Jake Owen & Bob Charles']\n"
     ]
    },
    {
     "name": "stdin",
     "output_type": "stream",
     "text": [
      " 1\n"
     ]
    },
    {
     "name": "stdout",
     "output_type": "stream",
     "text": [
      "For Dustin Lynch, which index is correct? ['Dustin Lynch']\n"
     ]
    },
    {
     "name": "stdin",
     "output_type": "stream",
     "text": [
      " 1\n"
     ]
    },
    {
     "name": "stdout",
     "output_type": "stream",
     "text": [
      "For Adele, which index is correct? ['Adele', 'Robyn Adele Anderson', 'Adele K']\n"
     ]
    },
    {
     "name": "stdin",
     "output_type": "stream",
     "text": [
      " 1\n"
     ]
    },
    {
     "name": "stdout",
     "output_type": "stream",
     "text": [
      "For Lewis Capaldi, which index is correct? ['Lewis Capaldi', 'Lewis Capaldii', 'Lewis Marc Capaldi']\n"
     ]
    },
    {
     "name": "stdin",
     "output_type": "stream",
     "text": [
      " 1\n"
     ]
    },
    {
     "name": "stdout",
     "output_type": "stream",
     "text": [
      "For Tai Verdes, which index is correct? ['Tai Verdes']\n"
     ]
    },
    {
     "name": "stdin",
     "output_type": "stream",
     "text": [
      " 1\n"
     ]
    },
    {
     "name": "stdout",
     "output_type": "stream",
     "text": [
      "For Lee Brice, which index is correct? ['Lee Brice', 'Brice Lee', 'Brice Lee']\n"
     ]
    },
    {
     "name": "stdin",
     "output_type": "stream",
     "text": [
      " 1\n"
     ]
    },
    {
     "name": "stdout",
     "output_type": "stream",
     "text": [
      "For Carrie Underwood, which index is correct? ['Carrie Underwood', 'Carrie Underwood Tribute Team', 'The Carrie Underwood Tribute Band']\n"
     ]
    },
    {
     "name": "stdin",
     "output_type": "stream",
     "text": [
      " 1\n"
     ]
    },
    {
     "name": "stdout",
     "output_type": "stream",
     "text": [
      "For Kenny Chesney, which index is correct? ['Kenny Chesney', 'Made famous by Kenny Chesney', '\"Karaoke - Jimmy Buffett, Alan Jackson, Kenny Chesney, Clint Black, Toby Keith']\n"
     ]
    },
    {
     "name": "stdin",
     "output_type": "stream",
     "text": [
      " 1\n"
     ]
    },
    {
     "name": "stdout",
     "output_type": "stream",
     "text": [
      "For Coi Leray, which index is correct? ['Coi Leray', 'Coi Leray', 'Coi Leray']\n"
     ]
    },
    {
     "name": "stdin",
     "output_type": "stream",
     "text": [
      " 1\n"
     ]
    }
   ],
   "source": [
    "for artist in artists[75:100]:\n",
    "    search = sp.search(q = f'artist:{artist}', type = 'artist')['artists']['items'][0:3]\n",
    "    results = [s['name'] for s in search]\n",
    "    print(f'For {artist}, which index is correct? {results}')\n",
    "    index = int(input()) - 1\n",
    "    name = search[index]['name']\n",
    "    names.append(name)\n",
    "    uri = search[index]['uri']\n",
    "    uris.append(uri)"
   ]
  },
  {
   "cell_type": "code",
   "execution_count": 14,
   "id": "ea5a0462-cd01-4891-b6b4-141189139b31",
   "metadata": {},
   "outputs": [],
   "source": [
    "a2021['uri'] = uris\n",
    "a2021['artist'] = names\n",
    "a2021.to_csv('data/artists_2021.csv', index = False)"
   ]
  }
 ],
 "metadata": {
  "kernelspec": {
   "display_name": "Python 3 (ipykernel)",
   "language": "python",
   "name": "python3"
  },
  "language_info": {
   "codemirror_mode": {
    "name": "ipython",
    "version": 3
   },
   "file_extension": ".py",
   "mimetype": "text/x-python",
   "name": "python",
   "nbconvert_exporter": "python",
   "pygments_lexer": "ipython3",
   "version": "3.9.12"
  }
 },
 "nbformat": 4,
 "nbformat_minor": 5
}
