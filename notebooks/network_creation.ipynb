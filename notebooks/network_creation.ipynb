{
 "cells": [
  {
   "cell_type": "code",
   "execution_count": 1,
   "id": "20ac2b55-88bc-4877-b180-a38638dbf3a8",
   "metadata": {},
   "outputs": [],
   "source": [
    "import spotipy\n",
    "from spotipy.oauth2 import SpotifyClientCredentials\n",
    "import networkx as nx\n",
    "import numpy as np\n",
    "import matplotlib.pyplot as plt\n",
    "import pandas as pd\n",
    "from dotenv import load_dotenv\n",
    "from tqdm.notebook import tqdm\n",
    "load_dotenv()\n",
    "from glob import glob"
   ]
  },
  {
   "cell_type": "code",
   "execution_count": 2,
   "id": "63baceac-118c-49e2-abff-8c1493556d56",
   "metadata": {},
   "outputs": [],
   "source": [
    "cred_manager = SpotifyClientCredentials()\n",
    "sp = spotipy.Spotify(client_credentials_manager = cred_manager)"
   ]
  },
  {
   "cell_type": "code",
   "execution_count": 3,
   "id": "5a906d04-7e1c-438f-9271-2e6095d08fad",
   "metadata": {},
   "outputs": [],
   "source": [
    "years = [2009, 2012, 2015, 2018, 2021]\n",
    "datasets = [pd.read_csv(f'data/artists_{year}.csv') for year in years]\n",
    "matrices = []"
   ]
  },
  {
   "cell_type": "code",
   "execution_count": null,
   "id": "5580c44b-f966-4c13-bdac-cfc3c6e51b35",
   "metadata": {},
   "outputs": [
    {
     "data": {
      "application/vnd.jupyter.widget-view+json": {
       "model_id": "a5d334419e50450da5ed04e55fc7acb0",
       "version_major": 2,
       "version_minor": 0
      },
      "text/plain": [
       "0it [00:00, ?it/s]"
      ]
     },
     "metadata": {},
     "output_type": "display_data"
    }
   ],
   "source": [
    "# 2009\n",
    "x = 0\n",
    "yr = years[x]\n",
    "data = datasets[x]\n",
    "names, uris = (data['artist'], data['uri'])\n",
    "n = data.shape[0]\n",
    "artist_dict = {artist: i for i, artist in enumerate(names)}\n",
    "adj_matrix = np.zeros((n, n))\n",
    "zipped = zip(names, uris)\n",
    "for i, artist in tqdm(enumerate(zipped)):\n",
    "    name, uri = artist\n",
    "    offset = 0\n",
    "    albums = sp.artist_albums(uri, album_type = 'album', limit = 50, offset = offset)['items']\n",
    "    query_length = len(albums)\n",
    "    while query_length == 50:\n",
    "        offset += 50\n",
    "        new_albums = sp.artist_albums(uri, album_type = 'album', limit = 50, offset = offset)['items']\n",
    "        albums += new_albums\n",
    "        query_length = len(new_albums)\n",
    "    dates = [album['release_date'] for album in albums]\n",
    "    for j, date in reversed(list(enumerate(dates))):\n",
    "        year = int(date[0:4])\n",
    "        if year < yr - 1 or year > yr + 1:\n",
    "            del albums[j]\n",
    "    albums = [album['uri'] for album in albums]\n",
    "    for album in albums:\n",
    "        tracks = sp.album_tracks(album)['items']\n",
    "        song_artists = [track['artists'] for track in tracks]\n",
    "        for song_artist_list in song_artists:\n",
    "            for song_artist in song_artist_list:\n",
    "                feat_name = song_artist['name']\n",
    "                if feat_name != name:\n",
    "                    try:\n",
    "                        index = artist_dict[feat_name]\n",
    "                        adj_matrix[i, index] = 1\n",
    "                    except:\n",
    "                        pass\n",
    "matrices.append(adj_matrix)\n",
    "df = pd.DataFrame(adj_matrix, columns = names, index = names)\n",
    "df.to_csv(f'data/adj_matrix_{yr}.csv')\n",
    "print(yr, names[0:3])"
   ]
  },
  {
   "cell_type": "code",
   "execution_count": 5,
   "id": "249aaf18-27e1-4f1c-bac3-f1d3ef079291",
   "metadata": {},
   "outputs": [
    {
     "data": {
      "application/vnd.jupyter.widget-view+json": {
       "model_id": "a610ce5ae74245ad98abe82513a53d67",
       "version_major": 2,
       "version_minor": 0
      },
      "text/plain": [
       "0it [00:00, ?it/s]"
      ]
     },
     "metadata": {},
     "output_type": "display_data"
    }
   ],
   "source": [
    "# 2012\n",
    "x = 1\n",
    "yr = years[x]\n",
    "data = datasets[x]\n",
    "names, uris = (data['artist'], data['uri'])\n",
    "n = data.shape[0]\n",
    "artist_dict = {artist: i for i, artist in enumerate(names)}\n",
    "adj_matrix = np.zeros((n, n))\n",
    "zipped = zip(names, uris)\n",
    "for i, artist in tqdm(enumerate(zipped)):\n",
    "    name, uri = artist\n",
    "    offset = 0\n",
    "    albums = sp.artist_albums(uri, album_type = 'album', limit = 50, offset = offset)['items']\n",
    "    query_length = len(albums)\n",
    "    while query_length == 50:\n",
    "        offset += 50\n",
    "        new_albums = sp.artist_albums(uri, album_type = 'album', limit = 50, offset = offset)['items']\n",
    "        albums += new_albums\n",
    "        query_length = len(new_albums)\n",
    "    dates = [album['release_date'] for album in albums]\n",
    "    for j, date in reversed(list(enumerate(dates))):\n",
    "        year = int(date[0:4])\n",
    "        if year < yr - 1 or year > yr + 1:\n",
    "            del albums[j]\n",
    "    albums = [album['uri'] for album in albums]\n",
    "    for album in albums:\n",
    "        tracks = sp.album_tracks(album)['items']\n",
    "        song_artists = [track['artists'] for track in tracks]\n",
    "        for song_artist_list in song_artists:\n",
    "            for song_artist in song_artist_list:\n",
    "                feat_name = song_artist['name']\n",
    "                if feat_name != name:\n",
    "                    try:\n",
    "                        index = artist_dict[feat_name]\n",
    "                        adj_matrix[i, index] = 1\n",
    "                    except:\n",
    "                        pass\n",
    "matrices.append(adj_matrix)"
   ]
  },
  {
   "cell_type": "code",
   "execution_count": 6,
   "id": "bbea2b74-280b-4bf6-89b4-c3cf45b5b01c",
   "metadata": {},
   "outputs": [
    {
     "data": {
      "application/vnd.jupyter.widget-view+json": {
       "model_id": "2a59a5a6626a45fc8699653ed7c2cc47",
       "version_major": 2,
       "version_minor": 0
      },
      "text/plain": [
       "0it [00:00, ?it/s]"
      ]
     },
     "metadata": {},
     "output_type": "display_data"
    }
   ],
   "source": [
    "# 2015\n",
    "x = 2\n",
    "yr = years[x]\n",
    "data = datasets[x]\n",
    "names, uris = (data['artist'], data['uri'])\n",
    "n = data.shape[0]\n",
    "artist_dict = {artist: i for i, artist in enumerate(names)}\n",
    "adj_matrix = np.zeros((n, n))\n",
    "zipped = zip(names, uris)\n",
    "for i, artist in tqdm(enumerate(zipped)):\n",
    "    name, uri = artist\n",
    "    offset = 0\n",
    "    albums = sp.artist_albums(uri, album_type = 'album', limit = 50, offset = offset)['items']\n",
    "    query_length = len(albums)\n",
    "    while query_length == 50:\n",
    "        offset += 50\n",
    "        new_albums = sp.artist_albums(uri, album_type = 'album', limit = 50, offset = offset)['items']\n",
    "        albums += new_albums\n",
    "        query_length = len(new_albums)\n",
    "    dates = [album['release_date'] for album in albums]\n",
    "    for j, date in reversed(list(enumerate(dates))):\n",
    "        year = int(date[0:4])\n",
    "        if year < yr - 1 or year > yr + 1:\n",
    "            del albums[j]\n",
    "    albums = [album['uri'] for album in albums]\n",
    "    for album in albums:\n",
    "        tracks = sp.album_tracks(album)['items']\n",
    "        song_artists = [track['artists'] for track in tracks]\n",
    "        for song_artist_list in song_artists:\n",
    "            for song_artist in song_artist_list:\n",
    "                feat_name = song_artist['name']\n",
    "                if feat_name != name:\n",
    "                    try:\n",
    "                        index = artist_dict[feat_name]\n",
    "                        adj_matrix[i, index] = 1\n",
    "                    except:\n",
    "                        pass\n",
    "matrices.append(adj_matrix)"
   ]
  },
  {
   "cell_type": "code",
   "execution_count": 7,
   "id": "0a00683b-df90-4a69-a3ad-01f667fde112",
   "metadata": {},
   "outputs": [
    {
     "data": {
      "application/vnd.jupyter.widget-view+json": {
       "model_id": "d0a6fdae46254bd7b4e33385a931303e",
       "version_major": 2,
       "version_minor": 0
      },
      "text/plain": [
       "0it [00:00, ?it/s]"
      ]
     },
     "metadata": {},
     "output_type": "display_data"
    }
   ],
   "source": [
    "# 2018\n",
    "x = 3\n",
    "yr = years[x]\n",
    "data = datasets[x]\n",
    "names, uris = (data['artist'], data['uri'])\n",
    "n = data.shape[0]\n",
    "artist_dict = {artist: i for i, artist in enumerate(names)}\n",
    "adj_matrix = np.zeros((n, n))\n",
    "zipped = zip(names, uris)\n",
    "for i, artist in tqdm(enumerate(zipped)):\n",
    "    name, uri = artist\n",
    "    offset = 0\n",
    "    albums = sp.artist_albums(uri, album_type = 'album', limit = 50, offset = offset)['items']\n",
    "    query_length = len(albums)\n",
    "    while query_length == 50:\n",
    "        offset += 50\n",
    "        new_albums = sp.artist_albums(uri, album_type = 'album', limit = 50, offset = offset)['items']\n",
    "        albums += new_albums\n",
    "        query_length = len(new_albums)\n",
    "    dates = [album['release_date'] for album in albums]\n",
    "    for j, date in reversed(list(enumerate(dates))):\n",
    "        year = int(date[0:4])\n",
    "        if year < yr - 1 or year > yr + 1:\n",
    "            del albums[j]\n",
    "    albums = [album['uri'] for album in albums]\n",
    "    for album in albums:\n",
    "        tracks = sp.album_tracks(album)['items']\n",
    "        song_artists = [track['artists'] for track in tracks]\n",
    "        for song_artist_list in song_artists:\n",
    "            for song_artist in song_artist_list:\n",
    "                feat_name = song_artist['name']\n",
    "                if feat_name != name:\n",
    "                    try:\n",
    "                        index = artist_dict[feat_name]\n",
    "                        adj_matrix[i, index] = 1\n",
    "                    except:\n",
    "                        pass\n",
    "matrices.append(adj_matrix)"
   ]
  },
  {
   "cell_type": "code",
   "execution_count": null,
   "id": "4d1508d8-5e16-4ca1-9a24-dbc18a0b6244",
   "metadata": {},
   "outputs": [
    {
     "data": {
      "application/vnd.jupyter.widget-view+json": {
       "model_id": "c95bd0bed5164ddaa6e25a0e94db44d6",
       "version_major": 2,
       "version_minor": 0
      },
      "text/plain": [
       "0it [00:00, ?it/s]"
      ]
     },
     "metadata": {},
     "output_type": "display_data"
    }
   ],
   "source": [
    "# 2021\n",
    "x = 4\n",
    "yr = years[x]\n",
    "data = datasets[x]\n",
    "names, uris = (data['artist'], data['uri'])\n",
    "n = data.shape[0]\n",
    "artist_dict = {artist: i for i, artist in enumerate(names)}\n",
    "adj_matrix = np.zeros((n, n))\n",
    "zipped = zip(names, uris)\n",
    "for i, artist in tqdm(enumerate(zipped)):\n",
    "    name, uri = artist\n",
    "    offset = 0\n",
    "    albums = sp.artist_albums(uri, album_type = 'album', limit = 50, offset = offset)['items']\n",
    "    query_length = len(albums)\n",
    "    while query_length == 50:\n",
    "        offset += 50\n",
    "        new_albums = sp.artist_albums(uri, album_type = 'album', limit = 50, offset = offset)['items']\n",
    "        albums += new_albums\n",
    "        query_length = len(new_albums)\n",
    "    dates = [album['release_date'] for album in albums]\n",
    "    for j, date in reversed(list(enumerate(dates))):\n",
    "        year = int(date[0:4])\n",
    "        if year < yr - 1 or year > yr + 1:\n",
    "            del albums[j]\n",
    "    albums = [album['uri'] for album in albums]\n",
    "    for album in albums:\n",
    "        tracks = sp.album_tracks(album)['items']\n",
    "        song_artists = [track['artists'] for track in tracks]\n",
    "        for song_artist_list in song_artists:\n",
    "            for song_artist in song_artist_list:\n",
    "                feat_name = song_artist['name']\n",
    "                if feat_name != name:\n",
    "                    try:\n",
    "                        index = artist_dict[feat_name]\n",
    "                        adj_matrix[i, index] = 1\n",
    "                    except:\n",
    "                        pass\n",
    "matrices.append(adj_matrix)"
   ]
  },
  {
   "cell_type": "code",
   "execution_count": null,
   "id": "53b0cc21-f663-4cb6-82c9-6a9c81081218",
   "metadata": {},
   "outputs": [],
   "source": [
    "for i, m in enumerate(matrices):\n",
    "    data = datasets[i]\n",
    "    names = data['artist']\n",
    "    df = pd.DataFrame(m, columns = names, index = names)\n",
    "    df.to_csv(f'data/adj_matrix_{years[i]}.csv')"
   ]
  },
  {
   "cell_type": "code",
   "execution_count": null,
   "id": "99e06d87-20df-4d88-9f6f-1ada6af5b5c6",
   "metadata": {},
   "outputs": [],
   "source": [
    "G = nx.Graph(matrices[0])"
   ]
  },
  {
   "cell_type": "code",
   "execution_count": null,
   "id": "415eb2ae-c132-4071-ba41-cffd7bab4223",
   "metadata": {},
   "outputs": [],
   "source": [
    "for m in matrices:\n",
    "    G = nx.Graph(m)\n",
    "    print(nx.number_connected_components(G))"
   ]
  },
  {
   "cell_type": "code",
   "execution_count": null,
   "id": "ca28aa0f-2812-4aac-93da-69393dc80b0b",
   "metadata": {},
   "outputs": [],
   "source": [
    "nx.draw_networkx(nx.Graph(matrices[-1]))"
   ]
  },
  {
   "cell_type": "code",
   "execution_count": null,
   "id": "11ff4b74-21b2-4060-9839-601c10af9cad",
   "metadata": {},
   "outputs": [],
   "source": [
    "adj_matrix = np.array([[0, 1], [0, 0]])\n",
    "G = nx.DiGraph(adj_matrix)"
   ]
  },
  {
   "cell_type": "code",
   "execution_count": null,
   "id": "93952b3a-9ee8-4fd2-be2d-f269143d242f",
   "metadata": {},
   "outputs": [],
   "source": [
    "nx.draw_networkx(G)"
   ]
  },
  {
   "cell_type": "code",
   "execution_count": null,
   "id": "045db8e4-2639-4ce1-90ae-71094c59e33d",
   "metadata": {},
   "outputs": [],
   "source": [
    "H = nx.Graph(adj_matrix)"
   ]
  },
  {
   "cell_type": "code",
   "execution_count": null,
   "id": "6436e743-b726-46d8-9a0f-bf38b65be014",
   "metadata": {},
   "outputs": [],
   "source": [
    "nx.draw(H)"
   ]
  },
  {
   "cell_type": "code",
   "execution_count": null,
   "id": "2a128d21-f0e1-47a7-872c-8642c72da745",
   "metadata": {},
   "outputs": [],
   "source": [
    "H.adj"
   ]
  }
 ],
 "metadata": {
  "kernelspec": {
   "display_name": "Python 3 (ipykernel)",
   "language": "python",
   "name": "python3"
  },
  "language_info": {
   "codemirror_mode": {
    "name": "ipython",
    "version": 3
   },
   "file_extension": ".py",
   "mimetype": "text/x-python",
   "name": "python",
   "nbconvert_exporter": "python",
   "pygments_lexer": "ipython3",
   "version": "3.9.12"
  }
 },
 "nbformat": 4,
 "nbformat_minor": 5
}
