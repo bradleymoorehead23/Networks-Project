{
 "cells": [
  {
   "cell_type": "code",
   "execution_count": 1,
   "id": "1f41d03c-c0d1-453d-8c7f-87c80acf7f65",
   "metadata": {},
   "outputs": [],
   "source": [
    "import spotipy\n",
    "from spotipy.oauth2 import SpotifyClientCredentials\n",
    "import networkx as nx\n",
    "import numpy as np\n",
    "import matplotlib.pyplot as plt\n",
    "import pandas as pd\n",
    "from dotenv import load_dotenv\n",
    "from tqdm.notebook import tqdm\n",
    "load_dotenv()\n",
    "from glob import glob"
   ]
  },
  {
   "cell_type": "code",
   "execution_count": 2,
   "id": "da0c3042-b304-4814-a49a-770750d6fde1",
   "metadata": {},
   "outputs": [],
   "source": [
    "files = glob('data/artists_*')\n",
    "all_artists = [pd.read_csv(file) for file in files]"
   ]
  },
  {
   "cell_type": "code",
   "execution_count": 3,
   "id": "f05b693a-4414-4f92-b2de-99c4d0104bf2",
   "metadata": {},
   "outputs": [
    {
     "data": {
      "text/plain": [
       "(499, 2)"
      ]
     },
     "execution_count": 3,
     "metadata": {},
     "output_type": "execute_result"
    }
   ],
   "source": [
    "all_artists = pd.concat(all_artists, ignore_index=True)\n",
    "all_artists.shape"
   ]
  },
  {
   "cell_type": "code",
   "execution_count": 4,
   "id": "2d9b0efc-016b-4559-bdde-55e4b9f3670b",
   "metadata": {},
   "outputs": [
    {
     "data": {
      "text/plain": [
       "(346, 2)"
      ]
     },
     "execution_count": 4,
     "metadata": {},
     "output_type": "execute_result"
    }
   ],
   "source": [
    "all_artists = all_artists.drop_duplicates()\n",
    "all_artists.shape"
   ]
  },
  {
   "cell_type": "code",
   "execution_count": 5,
   "id": "826fd3c4-4fe5-4ccf-b460-8a5deb0014ea",
   "metadata": {},
   "outputs": [],
   "source": [
    "cred_manager = SpotifyClientCredentials()\n",
    "sp = spotipy.Spotify(client_credentials_manager = cred_manager)"
   ]
  },
  {
   "cell_type": "code",
   "execution_count": 15,
   "id": "01bd2692-fe55-4b6d-8b5b-a1bc01764a91",
   "metadata": {},
   "outputs": [],
   "source": [
    "artist_ids = all_artists['uri']\n",
    "artists = [sp.artist(a_id) for a_id in artist_ids]"
   ]
  },
  {
   "cell_type": "code",
   "execution_count": 21,
   "id": "29141c98-85f3-4880-b151-9766e00a36d9",
   "metadata": {},
   "outputs": [],
   "source": [
    "artist_genres = [artist['genres'] for artist in artists]"
   ]
  },
  {
   "cell_type": "code",
   "execution_count": 26,
   "id": "de9bf719-9661-4110-9cfc-4521745c3d91",
   "metadata": {},
   "outputs": [],
   "source": [
    "top_genres = []\n",
    "for a in artist_genres:\n",
    "    if len(a) == 0:\n",
    "        top_genres.append('None')\n",
    "    else:\n",
    "        top_genres.append(a[0])"
   ]
  },
  {
   "cell_type": "code",
   "execution_count": 30,
   "id": "98222830-4c2b-4071-a400-01f327b9d21f",
   "metadata": {},
   "outputs": [],
   "source": [
    "df = pd.DataFrame({'artist': all_artists['artist'], 'uri': all_artists['uri'], 'top_genre': top_genres})\n",
    "df.to_csv('data/artist_genres.csv', index=False)"
   ]
  }
 ],
 "metadata": {
  "kernelspec": {
   "display_name": "Python 3 (ipykernel)",
   "language": "python",
   "name": "python3"
  },
  "language_info": {
   "codemirror_mode": {
    "name": "ipython",
    "version": 3
   },
   "file_extension": ".py",
   "mimetype": "text/x-python",
   "name": "python",
   "nbconvert_exporter": "python",
   "pygments_lexer": "ipython3",
   "version": "3.9.12"
  }
 },
 "nbformat": 4,
 "nbformat_minor": 5
}
