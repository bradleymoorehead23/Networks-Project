{
 "cells": [
  {
   "cell_type": "code",
   "execution_count": 24,
   "id": "fcd7bbd6",
   "metadata": {},
   "outputs": [
    {
     "data": {
      "text/plain": [
       "True"
      ]
     },
     "execution_count": 24,
     "metadata": {},
     "output_type": "execute_result"
    }
   ],
   "source": [
    "import spotipy\n",
    "from spotipy.oauth2 import SpotifyClientCredentials\n",
    "import numpy as np\n",
    "import matplotlib.pyplot as plt\n",
    "import pandas as pd\n",
    "from dotenv import load_dotenv\n",
    "from tqdm.notebook import tqdm\n",
    "load_dotenv()"
   ]
  },
  {
   "cell_type": "code",
   "execution_count": 2,
   "id": "6e4d314d-5f00-4af6-a162-3e69f5062154",
   "metadata": {},
   "outputs": [],
   "source": [
    "cred_manager = SpotifyClientCredentials()\n",
    "sp = spotipy.Spotify(client_credentials_manager = cred_manager)"
   ]
  },
  {
   "cell_type": "code",
   "execution_count": 3,
   "id": "4d55d09e-cd25-4880-aaa8-6e328eb04f61",
   "metadata": {},
   "outputs": [],
   "source": [
    "artists = pd.read_csv('sample_artists_2010.csv')"
   ]
  },
  {
   "cell_type": "code",
   "execution_count": 4,
   "id": "bbf77f6a-9b4f-4560-b188-240c9ed83c1b",
   "metadata": {},
   "outputs": [],
   "source": [
    "artist_list = artists['artists']"
   ]
  },
  {
   "cell_type": "code",
   "execution_count": 5,
   "id": "51545729-f588-482b-a043-f10fc7329e70",
   "metadata": {},
   "outputs": [],
   "source": [
    "n = artist_list.shape[0]\n",
    "artist_dict = {artist: i for i, artist in enumerate(artist_list)}\n",
    "adj_matrix = np.zeros((n, n))"
   ]
  },
  {
   "cell_type": "code",
   "execution_count": 25,
   "id": "8407c77e-9a7a-4a0e-b74d-0fba1f426f85",
   "metadata": {},
   "outputs": [
    {
     "data": {
      "application/vnd.jupyter.widget-view+json": {
       "model_id": "ad2b78bc6a8744a2a3297f9c53789520",
       "version_major": 2,
       "version_minor": 0
      },
      "text/plain": [
       "0it [00:00, ?it/s]"
      ]
     },
     "metadata": {},
     "output_type": "display_data"
    }
   ],
   "source": [
    "# PROTOTYPE\n",
    "for i, artist in tqdm(enumerate(artist_list)):\n",
    "    search = sp.search(q = f'artist:{artist}', type = 'artist')['artists']['items'][0]\n",
    "    artist_id = search['uri']\n",
    "    albums = sp.artist_albums(artist_id, album_type = 'album', limit = 50)['items']\n",
    "    dates = [album['release_date'] for album in albums]\n",
    "    for j, date in reversed(list(enumerate(dates))):\n",
    "        year = int(date[0:4])\n",
    "        if year < 2008 or year > 2012:\n",
    "            del albums[j]\n",
    "    albums = [album['uri'] for album in albums]\n",
    "    for album in albums:\n",
    "        tracks = sp.album_tracks(album)['items']\n",
    "        song_artists = [track['artists'] for track in tracks]\n",
    "        for song_artist_list in song_artists:\n",
    "            for song_artist in song_artist_list:\n",
    "                name = song_artist['name']\n",
    "                if name != artist:\n",
    "                    try:\n",
    "                        index = artist_dict[name]\n",
    "                        # print(artist, name, i, index)\n",
    "                        adj_matrix[i, index] = 1\n",
    "                        adj_matrix[index, i] = 1\n",
    "                    except:\n",
    "                        pass"
   ]
  },
  {
   "cell_type": "code",
   "execution_count": 7,
   "id": "8326980c-950e-47a8-a421-5a71d3e36a5b",
   "metadata": {},
   "outputs": [
    {
     "data": {
      "text/plain": [
       "array([[0., 0., 0., 1., 0., 0., 0., 0., 0., 0.],\n",
       "       [0., 0., 0., 0., 0., 0., 0., 0., 0., 0.],\n",
       "       [0., 0., 0., 0., 0., 0., 0., 0., 1., 1.],\n",
       "       [1., 0., 0., 0., 0., 0., 0., 0., 0., 0.],\n",
       "       [0., 0., 0., 0., 0., 0., 0., 0., 0., 0.],\n",
       "       [0., 0., 0., 0., 0., 0., 0., 1., 0., 0.],\n",
       "       [0., 0., 0., 0., 0., 0., 0., 0., 0., 0.],\n",
       "       [0., 0., 0., 0., 0., 1., 0., 0., 0., 1.],\n",
       "       [0., 0., 1., 0., 0., 0., 0., 0., 0., 1.],\n",
       "       [0., 0., 1., 0., 0., 0., 0., 1., 1., 0.]])"
      ]
     },
     "execution_count": 7,
     "metadata": {},
     "output_type": "execute_result"
    }
   ],
   "source": [
    "adj_matrix"
   ]
  },
  {
   "cell_type": "code",
   "execution_count": 8,
   "id": "b10e876a-70aa-457c-95dc-20f3ada79db9",
   "metadata": {},
   "outputs": [],
   "source": [
    "import networkx as nx\n",
    "G = nx.Graph(adj_matrix)\n",
    "label_dict = {val: key for key, val in artist_dict.items()}"
   ]
  },
  {
   "cell_type": "code",
   "execution_count": 19,
   "id": "5d16feb6-bed5-4e6e-a18e-5a2f2850e33a",
   "metadata": {},
   "outputs": [
    {
     "data": {
      "image/png": "[encoded data removed]",
      "text/plain": [
       "<Figure size 432x288 with 1 Axes>"
      ]
     },
     "metadata": {},
     "output_type": "display_data"
    }
   ],
   "source": [
    "pos = nx.circular_layout(G)\n",
    "nx.draw_networkx(G)#, labels = label_dict)\n",
    "plt.draw()"
   ]
  },
  {
   "cell_type": "code",
   "execution_count": 21,
   "id": "e837ba69-3dec-44ca-a3ec-97e55faf6f73",
   "metadata": {},
   "outputs": [
    {
     "data": {
      "text/plain": [
       "{0: 0.0,\n",
       " 1: 0.0,\n",
       " 2: 0.0,\n",
       " 3: 0.0,\n",
       " 4: 0.0,\n",
       " 5: 0.0,\n",
       " 6: 0.0,\n",
       " 7: 0.08333333333333333,\n",
       " 8: 0.0,\n",
       " 9: 0.1111111111111111}"
      ]
     },
     "execution_count": 21,
     "metadata": {},
     "output_type": "execute_result"
    }
   ],
   "source": [
    "nx.betweenness_centrality(G)"
   ]
  },
  {
   "cell_type": "code",
   "execution_count": 20,
   "id": "95b96895-07eb-4888-a256-2a8783622a91",
   "metadata": {},
   "outputs": [
    {
     "data": {
      "text/plain": [
       "{0: 'Lady Gaga',\n",
       " 1: 'Taylor Swift',\n",
       " 2: 'Eminem',\n",
       " 3: 'Lady A',\n",
       " 4: 'Kesha',\n",
       " 5: 'Usher',\n",
       " 6: 'The Black Eyed Peas',\n",
       " 7: 'Justin Bieber',\n",
       " 8: 'Rihanna',\n",
       " 9: 'Drake'}"
      ]
     },
     "execution_count": 20,
     "metadata": {},
     "output_type": "execute_result"
    }
   ],
   "source": [
    "label_dict"
   ]
  },
  {
   "cell_type": "code",
   "execution_count": 16,
   "id": "b3af3de5-0cf6-459b-a821-4056d406b785",
   "metadata": {},
   "outputs": [
    {
     "data": {
      "image/png": "[encoded data removed]",
      "text/plain": [
       "<Figure size 432x288 with 1 Axes>"
      ]
     },
     "metadata": {},
     "output_type": "display_data"
    }
   ],
   "source": [
    "nx.draw(G)"
   ]
  },
  {
   "cell_type": "code",
   "execution_count": 7,
   "id": "142ae3c3-6f2c-4820-9147-6b2f4693ee4f",
   "metadata": {},
   "outputs": [
    {
     "data": {
      "text/plain": [
       "[[{'external_urls': {'spotify': 'https://open.spotify.com/artist/5pKCCKE2ajJHZ9KAiaK11H'},\n",
       "   'href': 'https://api.spotify.com/v1/artists/5pKCCKE2ajJHZ9KAiaK11H',\n",
       "   'id': '5pKCCKE2ajJHZ9KAiaK11H',\n",
       "   'name': 'Rihanna',\n",
       "   'type': 'artist',\n",
       "   'uri': 'spotify:artist:5pKCCKE2ajJHZ9KAiaK11H'}],\n",
       " [{'external_urls': {'spotify': 'https://open.spotify.com/artist/5pKCCKE2ajJHZ9KAiaK11H'},\n",
       "   'href': 'https://api.spotify.com/v1/artists/5pKCCKE2ajJHZ9KAiaK11H',\n",
       "   'id': '5pKCCKE2ajJHZ9KAiaK11H',\n",
       "   'name': 'Rihanna',\n",
       "   'type': 'artist',\n",
       "   'uri': 'spotify:artist:5pKCCKE2ajJHZ9KAiaK11H'}],\n",
       " [{'external_urls': {'spotify': 'https://open.spotify.com/artist/5pKCCKE2ajJHZ9KAiaK11H'},\n",
       "   'href': 'https://api.spotify.com/v1/artists/5pKCCKE2ajJHZ9KAiaK11H',\n",
       "   'id': '5pKCCKE2ajJHZ9KAiaK11H',\n",
       "   'name': 'Rihanna',\n",
       "   'type': 'artist',\n",
       "   'uri': 'spotify:artist:5pKCCKE2ajJHZ9KAiaK11H'},\n",
       "  {'external_urls': {'spotify': 'https://open.spotify.com/artist/7CajNmpbOovFoOoasH2HaY'},\n",
       "   'href': 'https://api.spotify.com/v1/artists/7CajNmpbOovFoOoasH2HaY',\n",
       "   'id': '7CajNmpbOovFoOoasH2HaY',\n",
       "   'name': 'Calvin Harris',\n",
       "   'type': 'artist',\n",
       "   'uri': 'spotify:artist:7CajNmpbOovFoOoasH2HaY'}],\n",
       " [{'external_urls': {'spotify': 'https://open.spotify.com/artist/5pKCCKE2ajJHZ9KAiaK11H'},\n",
       "   'href': 'https://api.spotify.com/v1/artists/5pKCCKE2ajJHZ9KAiaK11H',\n",
       "   'id': '5pKCCKE2ajJHZ9KAiaK11H',\n",
       "   'name': 'Rihanna',\n",
       "   'type': 'artist',\n",
       "   'uri': 'spotify:artist:5pKCCKE2ajJHZ9KAiaK11H'},\n",
       "  {'external_urls': {'spotify': 'https://open.spotify.com/artist/3nFkdlSjzX9mRTtwJOzDYB'},\n",
       "   'href': 'https://api.spotify.com/v1/artists/3nFkdlSjzX9mRTtwJOzDYB',\n",
       "   'id': '3nFkdlSjzX9mRTtwJOzDYB',\n",
       "   'name': 'JAY-Z',\n",
       "   'type': 'artist',\n",
       "   'uri': 'spotify:artist:3nFkdlSjzX9mRTtwJOzDYB'}],\n",
       " [{'external_urls': {'spotify': 'https://open.spotify.com/artist/5pKCCKE2ajJHZ9KAiaK11H'},\n",
       "   'href': 'https://api.spotify.com/v1/artists/5pKCCKE2ajJHZ9KAiaK11H',\n",
       "   'id': '5pKCCKE2ajJHZ9KAiaK11H',\n",
       "   'name': 'Rihanna',\n",
       "   'type': 'artist',\n",
       "   'uri': 'spotify:artist:5pKCCKE2ajJHZ9KAiaK11H'}],\n",
       " [{'external_urls': {'spotify': 'https://open.spotify.com/artist/5pKCCKE2ajJHZ9KAiaK11H'},\n",
       "   'href': 'https://api.spotify.com/v1/artists/5pKCCKE2ajJHZ9KAiaK11H',\n",
       "   'id': '5pKCCKE2ajJHZ9KAiaK11H',\n",
       "   'name': 'Rihanna',\n",
       "   'type': 'artist',\n",
       "   'uri': 'spotify:artist:5pKCCKE2ajJHZ9KAiaK11H'}],\n",
       " [{'external_urls': {'spotify': 'https://open.spotify.com/artist/5pKCCKE2ajJHZ9KAiaK11H'},\n",
       "   'href': 'https://api.spotify.com/v1/artists/5pKCCKE2ajJHZ9KAiaK11H',\n",
       "   'id': '5pKCCKE2ajJHZ9KAiaK11H',\n",
       "   'name': 'Rihanna',\n",
       "   'type': 'artist',\n",
       "   'uri': 'spotify:artist:5pKCCKE2ajJHZ9KAiaK11H'}],\n",
       " [{'external_urls': {'spotify': 'https://open.spotify.com/artist/5pKCCKE2ajJHZ9KAiaK11H'},\n",
       "   'href': 'https://api.spotify.com/v1/artists/5pKCCKE2ajJHZ9KAiaK11H',\n",
       "   'id': '5pKCCKE2ajJHZ9KAiaK11H',\n",
       "   'name': 'Rihanna',\n",
       "   'type': 'artist',\n",
       "   'uri': 'spotify:artist:5pKCCKE2ajJHZ9KAiaK11H'}],\n",
       " [{'external_urls': {'spotify': 'https://open.spotify.com/artist/5pKCCKE2ajJHZ9KAiaK11H'},\n",
       "   'href': 'https://api.spotify.com/v1/artists/5pKCCKE2ajJHZ9KAiaK11H',\n",
       "   'id': '5pKCCKE2ajJHZ9KAiaK11H',\n",
       "   'name': 'Rihanna',\n",
       "   'type': 'artist',\n",
       "   'uri': 'spotify:artist:5pKCCKE2ajJHZ9KAiaK11H'}],\n",
       " [{'external_urls': {'spotify': 'https://open.spotify.com/artist/5pKCCKE2ajJHZ9KAiaK11H'},\n",
       "   'href': 'https://api.spotify.com/v1/artists/5pKCCKE2ajJHZ9KAiaK11H',\n",
       "   'id': '5pKCCKE2ajJHZ9KAiaK11H',\n",
       "   'name': 'Rihanna',\n",
       "   'type': 'artist',\n",
       "   'uri': 'spotify:artist:5pKCCKE2ajJHZ9KAiaK11H'}],\n",
       " [{'external_urls': {'spotify': 'https://open.spotify.com/artist/5pKCCKE2ajJHZ9KAiaK11H'},\n",
       "   'href': 'https://api.spotify.com/v1/artists/5pKCCKE2ajJHZ9KAiaK11H',\n",
       "   'id': '5pKCCKE2ajJHZ9KAiaK11H',\n",
       "   'name': 'Rihanna',\n",
       "   'type': 'artist',\n",
       "   'uri': 'spotify:artist:5pKCCKE2ajJHZ9KAiaK11H'}],\n",
       " [{'external_urls': {'spotify': 'https://open.spotify.com/artist/5pKCCKE2ajJHZ9KAiaK11H'},\n",
       "   'href': 'https://api.spotify.com/v1/artists/5pKCCKE2ajJHZ9KAiaK11H',\n",
       "   'id': '5pKCCKE2ajJHZ9KAiaK11H',\n",
       "   'name': 'Rihanna',\n",
       "   'type': 'artist',\n",
       "   'uri': 'spotify:artist:5pKCCKE2ajJHZ9KAiaK11H'}],\n",
       " [{'external_urls': {'spotify': 'https://open.spotify.com/artist/5pKCCKE2ajJHZ9KAiaK11H'},\n",
       "   'href': 'https://api.spotify.com/v1/artists/5pKCCKE2ajJHZ9KAiaK11H',\n",
       "   'id': '5pKCCKE2ajJHZ9KAiaK11H',\n",
       "   'name': 'Rihanna',\n",
       "   'type': 'artist',\n",
       "   'uri': 'spotify:artist:5pKCCKE2ajJHZ9KAiaK11H'}],\n",
       " [{'external_urls': {'spotify': 'https://open.spotify.com/artist/5pKCCKE2ajJHZ9KAiaK11H'},\n",
       "   'href': 'https://api.spotify.com/v1/artists/5pKCCKE2ajJHZ9KAiaK11H',\n",
       "   'id': '5pKCCKE2ajJHZ9KAiaK11H',\n",
       "   'name': 'Rihanna',\n",
       "   'type': 'artist',\n",
       "   'uri': 'spotify:artist:5pKCCKE2ajJHZ9KAiaK11H'}]]"
      ]
     },
     "execution_count": 7,
     "metadata": {},
     "output_type": "execute_result"
    }
   ],
   "source": [
    "song_artists"
   ]
  },
  {
   "cell_type": "code",
   "execution_count": 7,
   "id": "05d35735-a964-4611-bfc3-08f9f90dc8fa",
   "metadata": {},
   "outputs": [
    {
     "data": {
      "text/plain": [
       "[{'external_urls': {'spotify': 'https://open.spotify.com/artist/6LqNN22kT3074XbTVUrhzX'},\n",
       "  'href': 'https://api.spotify.com/v1/artists/6LqNN22kT3074XbTVUrhzX',\n",
       "  'id': '6LqNN22kT3074XbTVUrhzX',\n",
       "  'name': 'Kesha',\n",
       "  'type': 'artist',\n",
       "  'uri': 'spotify:artist:6LqNN22kT3074XbTVUrhzX'}]"
      ]
     },
     "execution_count": 7,
     "metadata": {},
     "output_type": "execute_result"
    }
   ],
   "source": [
    "song_artist"
   ]
  },
  {
   "cell_type": "code",
   "execution_count": 9,
   "id": "c30e3320-c2c5-4d10-9093-f04d8ab47e41",
   "metadata": {},
   "outputs": [],
   "source": [
    "search = sp.search(q = 'artist:The Weeknd', type = 'artist')\n",
    "query = search['artists']['items'][0]\n",
    "name, uri = (query['name'], query['uri'])\n",
    "albums = sp.artist_albums(uri, album_type = 'album')"
   ]
  },
  {
   "cell_type": "code",
   "execution_count": 14,
   "id": "5db34eff-0fbb-4eba-af81-d6efca0952e9",
   "metadata": {},
   "outputs": [
    {
     "data": {
      "text/plain": [
       "2022"
      ]
     },
     "execution_count": 14,
     "metadata": {},
     "output_type": "execute_result"
    }
   ],
   "source": [
    "int(albums['items'][0]['release_date'][0:4])"
   ]
  },
  {
   "cell_type": "code",
   "execution_count": 33,
   "id": "2b4bc312-193a-49c5-b014-1013a5a99207",
   "metadata": {},
   "outputs": [],
   "source": [
    "items = albums['items']\n",
    "uris = [item['uri'] for item in items]\n",
    "tracks = []\n",
    "names = []\n",
    "for uri in uris:\n",
    "    album_tracks = sp.album_tracks(uri)['items']\n",
    "    tracks = tracks + album_tracks\n",
    "    album_names = [item['name'] for item in album_tracks]\n",
    "    names = names + album_names\n",
    "    \n",
    "remove = []\n",
    "already_seen = []\n",
    "for i in range(len(names)):\n",
    "    name = names[i]\n",
    "    if name not in already_seen:\n",
    "        already_seen.append(name)\n",
    "    else:\n",
    "        remove.append(i)"
   ]
  },
  {
   "cell_type": "code",
   "execution_count": 38,
   "id": "1788e9e3-0560-4230-9e1d-fc89a6c9e508",
   "metadata": {},
   "outputs": [],
   "source": [
    "for i in sorted(remove, reverse = True):\n",
    "    del tracks[i]\n",
    "    del names[i]"
   ]
  },
  {
   "cell_type": "code",
   "execution_count": 43,
   "id": "a735f383-6189-4adf-9919-f77f8eb92489",
   "metadata": {},
   "outputs": [
    {
     "data": {
      "text/plain": [
       "{'artists': [{'external_urls': {'spotify': 'https://open.spotify.com/artist/1Xyo4u8uXC1ZmMpatF05PJ'},\n",
       "   'href': 'https://api.spotify.com/v1/artists/1Xyo4u8uXC1ZmMpatF05PJ',\n",
       "   'id': '1Xyo4u8uXC1ZmMpatF05PJ',\n",
       "   'name': 'The Weeknd',\n",
       "   'type': 'artist',\n",
       "   'uri': 'spotify:artist:1Xyo4u8uXC1ZmMpatF05PJ'},\n",
       "  {'external_urls': {'spotify': 'https://open.spotify.com/artist/4V8LLVI7PbaPR0K2TGSxFF'},\n",
       "   'href': 'https://api.spotify.com/v1/artists/4V8LLVI7PbaPR0K2TGSxFF',\n",
       "   'id': '4V8LLVI7PbaPR0K2TGSxFF',\n",
       "   'name': 'Tyler, The Creator',\n",
       "   'type': 'artist',\n",
       "   'uri': 'spotify:artist:4V8LLVI7PbaPR0K2TGSxFF'}],\n",
       " 'available_markets': ['AD',\n",
       "  'AE',\n",
       "  'AG',\n",
       "  'AL',\n",
       "  'AM',\n",
       "  'AO',\n",
       "  'AR',\n",
       "  'AT',\n",
       "  'AU',\n",
       "  'AZ',\n",
       "  'BA',\n",
       "  'BB',\n",
       "  'BD',\n",
       "  'BE',\n",
       "  'BF',\n",
       "  'BG',\n",
       "  'BH',\n",
       "  'BI',\n",
       "  'BJ',\n",
       "  'BN',\n",
       "  'BO',\n",
       "  'BR',\n",
       "  'BS',\n",
       "  'BT',\n",
       "  'BW',\n",
       "  'BZ',\n",
       "  'CA',\n",
       "  'CD',\n",
       "  'CG',\n",
       "  'CH',\n",
       "  'CI',\n",
       "  'CL',\n",
       "  'CM',\n",
       "  'CO',\n",
       "  'CR',\n",
       "  'CV',\n",
       "  'CW',\n",
       "  'CY',\n",
       "  'CZ',\n",
       "  'DE',\n",
       "  'DJ',\n",
       "  'DK',\n",
       "  'DM',\n",
       "  'DO',\n",
       "  'DZ',\n",
       "  'EC',\n",
       "  'EE',\n",
       "  'EG',\n",
       "  'ES',\n",
       "  'FI',\n",
       "  'FJ',\n",
       "  'FM',\n",
       "  'FR',\n",
       "  'GA',\n",
       "  'GB',\n",
       "  'GD',\n",
       "  'GE',\n",
       "  'GH',\n",
       "  'GM',\n",
       "  'GN',\n",
       "  'GQ',\n",
       "  'GR',\n",
       "  'GT',\n",
       "  'GW',\n",
       "  'GY',\n",
       "  'HK',\n",
       "  'HN',\n",
       "  'HR',\n",
       "  'HT',\n",
       "  'HU',\n",
       "  'ID',\n",
       "  'IE',\n",
       "  'IL',\n",
       "  'IN',\n",
       "  'IQ',\n",
       "  'IS',\n",
       "  'IT',\n",
       "  'JM',\n",
       "  'JO',\n",
       "  'JP',\n",
       "  'KE',\n",
       "  'KG',\n",
       "  'KH',\n",
       "  'KI',\n",
       "  'KM',\n",
       "  'KN',\n",
       "  'KR',\n",
       "  'KW',\n",
       "  'KZ',\n",
       "  'LA',\n",
       "  'LB',\n",
       "  'LC',\n",
       "  'LI',\n",
       "  'LK',\n",
       "  'LR',\n",
       "  'LS',\n",
       "  'LT',\n",
       "  'LU',\n",
       "  'LV',\n",
       "  'LY',\n",
       "  'MA',\n",
       "  'MC',\n",
       "  'MD',\n",
       "  'ME',\n",
       "  'MG',\n",
       "  'MH',\n",
       "  'MK',\n",
       "  'ML',\n",
       "  'MN',\n",
       "  'MO',\n",
       "  'MR',\n",
       "  'MT',\n",
       "  'MU',\n",
       "  'MV',\n",
       "  'MW',\n",
       "  'MX',\n",
       "  'MY',\n",
       "  'MZ',\n",
       "  'NA',\n",
       "  'NE',\n",
       "  'NG',\n",
       "  'NI',\n",
       "  'NL',\n",
       "  'NO',\n",
       "  'NP',\n",
       "  'NR',\n",
       "  'NZ',\n",
       "  'OM',\n",
       "  'PA',\n",
       "  'PE',\n",
       "  'PG',\n",
       "  'PH',\n",
       "  'PK',\n",
       "  'PL',\n",
       "  'PS',\n",
       "  'PT',\n",
       "  'PW',\n",
       "  'PY',\n",
       "  'QA',\n",
       "  'RO',\n",
       "  'RS',\n",
       "  'RW',\n",
       "  'SA',\n",
       "  'SB',\n",
       "  'SC',\n",
       "  'SE',\n",
       "  'SG',\n",
       "  'SI',\n",
       "  'SK',\n",
       "  'SL',\n",
       "  'SM',\n",
       "  'SN',\n",
       "  'SR',\n",
       "  'ST',\n",
       "  'SV',\n",
       "  'SZ',\n",
       "  'TD',\n",
       "  'TG',\n",
       "  'TH',\n",
       "  'TJ',\n",
       "  'TL',\n",
       "  'TN',\n",
       "  'TO',\n",
       "  'TR',\n",
       "  'TT',\n",
       "  'TV',\n",
       "  'TW',\n",
       "  'TZ',\n",
       "  'UA',\n",
       "  'UG',\n",
       "  'US',\n",
       "  'UY',\n",
       "  'UZ',\n",
       "  'VC',\n",
       "  'VE',\n",
       "  'VN',\n",
       "  'VU',\n",
       "  'WS',\n",
       "  'XK',\n",
       "  'ZA',\n",
       "  'ZM',\n",
       "  'ZW'],\n",
       " 'disc_number': 1,\n",
       " 'duration_ms': 209777,\n",
       " 'explicit': True,\n",
       " 'external_urls': {'spotify': 'https://open.spotify.com/track/0khQeEwEv6GndVypzpGOG5'},\n",
       " 'href': 'https://api.spotify.com/v1/tracks/0khQeEwEv6GndVypzpGOG5',\n",
       " 'id': '0khQeEwEv6GndVypzpGOG5',\n",
       " 'is_local': False,\n",
       " 'name': 'Here We Go… Again (feat. Tyler, the Creator)',\n",
       " 'preview_url': None,\n",
       " 'track_number': 8,\n",
       " 'type': 'track',\n",
       " 'uri': 'spotify:track:0khQeEwEv6GndVypzpGOG5'}"
      ]
     },
     "execution_count": 43,
     "metadata": {},
     "output_type": "execute_result"
    }
   ],
   "source": [
    "tracks[7]"
   ]
  }
 ],
 "metadata": {
  "kernelspec": {
   "display_name": "Python 3 (ipykernel)",
   "language": "python",
   "name": "python3"
  },
  "language_info": {
   "codemirror_mode": {
    "name": "ipython",
    "version": 3
   },
   "file_extension": ".py",
   "mimetype": "text/x-python",
   "name": "python",
   "nbconvert_exporter": "python",
   "pygments_lexer": "ipython3",
   "version": "3.9.12"
  }
 },
 "nbformat": 4,
 "nbformat_minor": 5
}
